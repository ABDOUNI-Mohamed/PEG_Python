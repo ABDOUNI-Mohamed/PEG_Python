{
 "cells": [
  {
   "cell_type": "markdown",
   "metadata": {},
   "source": [
    "# Pressure Traverse- Revised Beggs and Brill Correlation"
   ]
  },
  {
   "cell_type": "markdown",
   "metadata": {},
   "source": [
    "Importing Libraries"
   ]
  },
  {
   "cell_type": "code",
   "execution_count": 1,
   "metadata": {},
   "outputs": [],
   "source": [
    "import numpy as np\n",
    "import pandas as pd\n",
    "import math\n",
    "import matplotlib.pyplot as plt\n",
    "import psapy.FluidProps\n",
    "import psapy.BeggsandBrill as BB"
   ]
  },
  {
   "cell_type": "markdown",
   "metadata": {},
   "source": [
    "Input Data"
   ]
  },
  {
   "cell_type": "code",
   "execution_count": 2,
   "metadata": {},
   "outputs": [
    {
     "data": {
      "text/plain": [
       "0.01"
      ]
     },
     "execution_count": 2,
     "metadata": {},
     "output_type": "execute_result"
    }
   ],
   "source": [
    "oil_rate= 100\n",
    "water_rate = 50\n",
    "gor = 300\n",
    "gas_grav = 0.65\n",
    "oil_grav = 35\n",
    "wtr_grav = 1.07\n",
    "diameter=2.441\n",
    "angle=90.0\n",
    "thp= 150.0\n",
    "tht=100.0\n",
    "twf=150.0\n",
    "depth = 5000\n",
    "sample_size =51\n",
    "\n",
    "def temp_gradient(t0,t1, depth):\n",
    "    if depth==0:\n",
    "        return 0\n",
    "    else:\n",
    "        return abs(t0-t1)/depth    \n",
    "\n",
    "t_grad = temp_gradient(tht,twf, depth)\n",
    "t_grad"
   ]
  },
  {
   "cell_type": "code",
   "execution_count": 4,
   "metadata": {},
   "outputs": [
    {
     "data": {
      "text/plain": [
       "array([   0.,  100.,  200.,  300.,  400.,  500.,  600.,  700.,  800.,\n",
       "        900., 1000., 1100., 1200., 1300., 1400., 1500., 1600., 1700.,\n",
       "       1800., 1900., 2000., 2100., 2200., 2300., 2400., 2500., 2600.,\n",
       "       2700., 2800., 2900., 3000., 3100., 3200., 3300., 3400., 3500.,\n",
       "       3600., 3700., 3800., 3900., 4000., 4100., 4200., 4300., 4400.,\n",
       "       4500., 4600., 4700., 4800., 4900., 5000.])"
      ]
     },
     "execution_count": 4,
     "metadata": {},
     "output_type": "execute_result"
    }
   ],
   "source": [
    "depths = np.linspace(0, depth, sample_size)\n",
    "depths"
   ]
  },
  {
   "cell_type": "code",
   "execution_count": 5,
   "metadata": {},
   "outputs": [
    {
     "data": {
      "text/plain": [
       "array([100., 101., 102., 103., 104., 105., 106., 107., 108., 109., 110.,\n",
       "       111., 112., 113., 114., 115., 116., 117., 118., 119., 120., 121.,\n",
       "       122., 123., 124., 125., 126., 127., 128., 129., 130., 131., 132.,\n",
       "       133., 134., 135., 136., 137., 138., 139., 140., 141., 142., 143.,\n",
       "       144., 145., 146., 147., 148., 149., 150.])"
      ]
     },
     "execution_count": 5,
     "metadata": {},
     "output_type": "execute_result"
    }
   ],
   "source": [
    "temps = tht + t_grad * depths\n",
    "temps"
   ]
  },
  {
   "cell_type": "code",
   "execution_count": 10,
   "metadata": {},
   "outputs": [
    {
     "data": {
      "text/plain": [
       "2313.7335679949833"
      ]
     },
     "execution_count": 10,
     "metadata": {},
     "output_type": "execute_result"
    }
   ],
   "source": [
    "#def Pgrad(P, T, oil_rate, wtr_rate, Gor, gas_grav, oil_grav, wtr_grav, d, angle):\n",
    "\n",
    "\n",
    "def pressure_traverse(oil_rate):\n",
    "    p=[]\n",
    "    dpdz=[]\n",
    "    for i in range(len(depths)):\n",
    "\n",
    "        if i==0:\n",
    "            p.append(thp)\n",
    "        else:\n",
    "            dz = (depths[i]-depths[i-1])\n",
    "            pressure = p[i-1]+dz*dpdz[i-1]\n",
    "            p.append(pressure)\n",
    "\n",
    "        dpdz_step = BB.Pgrad(p[i], temps[i], oil_rate, water_rate, gor, gas_grav, oil_grav, wtr_grav, diameter, angle) \n",
    "        dpdz.append(dpdz_step)\n",
    "        \n",
    "    return p, dpdz\n",
    "\n",
    "p, dpdz =pressure_traverse(oil_rate)\n",
    "p[-1]\n"
   ]
  },
  {
   "cell_type": "code",
   "execution_count": 11,
   "metadata": {},
   "outputs": [
    {
     "data": {
      "image/png": "[encoded data removed]",
      "text/plain": [
       "<Figure size 432x288 with 1 Axes>"
      ]
     },
     "metadata": {
      "needs_background": "light"
     },
     "output_type": "display_data"
    }
   ],
   "source": [
    "scatter =plt.scatter(p, depths)\n",
    "ax = scatter.axes\n",
    "ax.invert_yaxis()\n",
    "plt.xlabel('Pressure')\n",
    "plt.ylabel('Depth')\n",
    "plt.show()"
   ]
  },
  {
   "cell_type": "code",
   "execution_count": 12,
   "metadata": {},
   "outputs": [
    {
     "data": {
      "image/png": "[encoded data removed]",
      "text/plain": [
       "<Figure size 432x288 with 1 Axes>"
      ]
     },
     "metadata": {
      "needs_background": "light"
     },
     "output_type": "display_data"
    }
   ],
   "source": [
    "oil_rates=[100,200,300, 500] \n",
    "for r in oil_rates:\n",
    "    p, dpdz =pressure_traverse(r)\n",
    "    scatter =plt.scatter(p, depths)\n",
    "ax = scatter.axes\n",
    "ax.invert_yaxis()\n",
    "plt.xlabel('Pressure')\n",
    "plt.ylabel('Depth')\n",
    "plt.show()"
   ]
  },
  {
   "cell_type": "code",
   "execution_count": null,
   "metadata": {},
   "outputs": [],
   "source": []
  }
 ],
 "metadata": {
  "kernelspec": {
   "display_name": "Python 3",
   "language": "python",
   "name": "python3"
  },
  "language_info": {
   "codemirror_mode": {
    "name": "ipython",
    "version": 3
   },
   "file_extension": ".py",
   "mimetype": "text/x-python",
   "name": "python",
   "nbconvert_exporter": "python",
   "pygments_lexer": "ipython3",
   "version": "3.8.1"
  }
 },
 "nbformat": 4,
 "nbformat_minor": 4
}
