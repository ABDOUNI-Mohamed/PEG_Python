{
 "cells": [
  {
   "cell_type": "markdown",
   "metadata": {},
   "source": [
    "# Control Flow Statements"
   ]
  },
  {
   "cell_type": "markdown",
   "metadata": {},
   "source": [
    "## If, else, elif statements"
   ]
  },
  {
   "cell_type": "markdown",
   "metadata": {},
   "source": [
    "if some_condition:\n",
    "    \n",
    "    algorithm"
   ]
  },
  {
   "cell_type": "code",
   "execution_count": 1,
   "metadata": {},
   "outputs": [
    {
     "name": "stdout",
     "output_type": "stream",
     "text": [
      "Sand\n"
     ]
    }
   ],
   "source": [
    "porosity = 0.15\n",
    "if porosity > 0.1:\n",
    "    print(\"Sand\")"
   ]
  },
  {
   "cell_type": "code",
   "execution_count": 3,
   "metadata": {},
   "outputs": [],
   "source": [
    "#Notice that in this case nothing is printed\n",
    "porosity = 0.05\n",
    "if porosity > 0.1:\n",
    "    print(\"Sand\")"
   ]
  },
  {
   "cell_type": "markdown",
   "metadata": {},
   "source": [
    "## If-else"
   ]
  },
  {
   "cell_type": "markdown",
   "metadata": {},
   "source": [
    "if some_condition:\n",
    "    \n",
    "    algorithm\n",
    "    \n",
    "else:\n",
    "    \n",
    "    algorithm"
   ]
  },
  {
   "cell_type": "code",
   "execution_count": 4,
   "metadata": {},
   "outputs": [
    {
     "name": "stdout",
     "output_type": "stream",
     "text": [
      "Shaly-Sand\n"
     ]
    }
   ],
   "source": [
    "porosity = 0.1\n",
    "if porosity > 0.1:\n",
    "    print(\"Sand\")\n",
    "else:\n",
    "    print(\"Shaly-Sand\")"
   ]
  },
  {
   "cell_type": "code",
   "execution_count": 5,
   "metadata": {},
   "outputs": [
    {
     "name": "stdout",
     "output_type": "stream",
     "text": [
      "Sand\n"
     ]
    }
   ],
   "source": [
    "porosity = 0.1\n",
    "if porosity >= 0.1:\n",
    "    print(\"Sand\")\n",
    "else:\n",
    "    print(\"Shaly-Sand\")"
   ]
  },
  {
   "cell_type": "markdown",
   "metadata": {},
   "source": [
    "## if-elif"
   ]
  },
  {
   "cell_type": "markdown",
   "metadata": {},
   "source": [
    "if some_condition:\n",
    "    \n",
    "    algorithm\n",
    "\n",
    "elif some_condition:\n",
    "    \n",
    "    algorithm\n",
    "\n",
    "else:\n",
    "    \n",
    "    algorithm"
   ]
  },
  {
   "cell_type": "code",
   "execution_count": 6,
   "metadata": {},
   "outputs": [
    {
     "name": "stdout",
     "output_type": "stream",
     "text": [
      "MegaPerm Sand\n"
     ]
    }
   ],
   "source": [
    "porosity = 0.15\n",
    "permeability = 1500 #md\n",
    "if porosity > 0.1 and permeability < 1000:\n",
    "    print(\"Sand\")\n",
    "elif porosity > 0.1 and permeability >= 1000:\n",
    "    print(\"MegaPerm Sand\")\n",
    "else:\n",
    "    print(\"Shale\")"
   ]
  },
  {
   "cell_type": "markdown",
   "metadata": {},
   "source": [
    "if statement inside a if statement or if-elif or if-else are called as nested if statements."
   ]
  },
  {
   "cell_type": "code",
   "execution_count": 7,
   "metadata": {},
   "outputs": [
    {
     "name": "stdout",
     "output_type": "stream",
     "text": [
      "MegaPerm Sand\n"
     ]
    }
   ],
   "source": [
    "porosity = 0.15\n",
    "permeability = 1500 #md\n",
    "if porosity > 0.1:\n",
    "    if permeability < 100:\n",
    "        print(\"Shaly-Sand\")\n",
    "    elif permeability < 1000:\n",
    "        print(\"Sand\")\n",
    "    elif permeability >= 1000:\n",
    "        print(\"MegaPerm Sand\")\n",
    "else:\n",
    "    print(\"Shale\")"
   ]
  },
  {
   "cell_type": "markdown",
   "metadata": {},
   "source": [
    "## Loops"
   ]
  },
  {
   "cell_type": "markdown",
   "metadata": {},
   "source": [
    "### For"
   ]
  },
  {
   "cell_type": "markdown",
   "metadata": {},
   "source": [
    "for variable in something:\n",
    "    \n",
    "    algorithm"
   ]
  },
  {
   "cell_type": "code",
   "execution_count": 8,
   "metadata": {},
   "outputs": [
    {
     "name": "stdout",
     "output_type": "stream",
     "text": [
      "0\n",
      "1\n",
      "2\n",
      "3\n",
      "4\n"
     ]
    }
   ],
   "source": [
    "for i in range(5):\n",
    "    print(i)"
   ]
  },
  {
   "cell_type": "markdown",
   "metadata": {},
   "source": [
    "In the above example, i iterates over the 0,1,2,3,4. Every time it takes each value and executes the algorithm inside the loop. It is also possible to iterate over a nested list illustrated below."
   ]
  },
  {
   "cell_type": "code",
   "execution_count": 9,
   "metadata": {},
   "outputs": [
    {
     "name": "stdout",
     "output_type": "stream",
     "text": [
      "wellA\n",
      "wellB\n",
      "wellC\n"
     ]
    }
   ],
   "source": [
    "wells = ['wellA', 'wellB', 'wellC']\n",
    "for x in wells:\n",
    "        print(x)"
   ]
  },
  {
   "cell_type": "code",
   "execution_count": 10,
   "metadata": {},
   "outputs": [
    {
     "name": "stdout",
     "output_type": "stream",
     "text": [
      "wellA\n",
      "wellB\n",
      "wellC\n",
      "0.2\n",
      "0.3\n",
      "0.25\n"
     ]
    }
   ],
   "source": [
    "list_of_lists = [['wellA', 'wellB', 'wellC'], [0.2, 0.3, 0.25]]\n",
    "for list1 in list_of_lists:\n",
    "    for x in list1:\n",
    "        print(x)"
   ]
  },
  {
   "cell_type": "code",
   "execution_count": 11,
   "metadata": {},
   "outputs": [
    {
     "name": "stdout",
     "output_type": "stream",
     "text": [
      "The well name is  wellA , the mean porosity is 0.2  and mean permeability is  500\n",
      "The well name is  wellB , the mean porosity is 0.3  and mean permeability is  1500\n",
      "The well name is  wellC , the mean porosity is 0.5  and mean permeability is  200\n"
     ]
    }
   ],
   "source": [
    "wells = ['wellA', 'wellB', 'wellC']\n",
    "mean_poro = [0.2, 0.3, 0.5]\n",
    "mean_permeability = [500, 1500, 200]\n",
    "number_of_wells = len(wells)\n",
    "for x in range(number_of_wells):\n",
    "        print('The well name is ', wells[x], ', the mean porosity is', mean_poro[x],\n",
    "              ' and mean permeability is ', mean_permeability[x])"
   ]
  },
  {
   "cell_type": "markdown",
   "metadata": {},
   "source": [
    "## While"
   ]
  },
  {
   "cell_type": "markdown",
   "metadata": {},
   "source": [
    "while some_condition:\n",
    "    \n",
    "    algorithm"
   ]
  },
  {
   "cell_type": "code",
   "execution_count": 12,
   "metadata": {},
   "outputs": [
    {
     "name": "stdout",
     "output_type": "stream",
     "text": [
      "4\n",
      "3\n",
      "2\n",
      "1\n",
      "0\n",
      "Finished\n"
     ]
    }
   ],
   "source": [
    "n = 5\n",
    "while n > 0:\n",
    "    n -= 1\n",
    "    print(n)\n",
    "print('Finished')"
   ]
  },
  {
   "cell_type": "code",
   "execution_count": 13,
   "metadata": {},
   "outputs": [
    {
     "name": "stdout",
     "output_type": "stream",
     "text": [
      "Rate is  322.644003278689\n",
      "Rate is  225.643954098361\n",
      "Rate is  208.289740983607\n",
      "Rate is  168.054363934426\n",
      "Rate is  145.511416393443\n",
      "Rate was below  150  m3/d in item  9  of the list\n"
     ]
    }
   ],
   "source": [
    "well_rate = [248.956137704918, 434.084242622951, 383.696186885246, 400.761678688525, 322.644003278689, \n",
    "             225.643954098361, 208.289740983607, 168.054363934426, 145.511416393443, 150.106209836066, \n",
    "             133.21188852459, 112.300216393443, 114.898708196721, 103.527213114754, 137.146747540984, \n",
    "             204.845708196721, 186.109757377049, 153.191403278689, 156.666370491803, 145.631029508197, \n",
    "             142.323108196721, 144.104931147541, 130.759819672131, 118.414921311475, 129.520380327869, \n",
    "             119.386262295082, 120.372039344262]\n",
    "number_of_items = len(well_rate)\n",
    "minimum_rate = 150\n",
    "#i = 0\n",
    "rate = 1000\n",
    "\n",
    "while rate > minimum_rate:\n",
    "    rate = well_rate[i]\n",
    "    print('Rate is ', well_rate[i])\n",
    "    i += 1\n",
    "print('Rate was below ', minimum_rate, ' m3/d in item ', i, ' of the list')"
   ]
  },
  {
   "cell_type": "markdown",
   "metadata": {},
   "source": [
    "## Break"
   ]
  },
  {
   "cell_type": "markdown",
   "metadata": {},
   "source": [
    "As the name says. It is used to break out of a loop when a condition becomes true when executing the loop."
   ]
  },
  {
   "cell_type": "code",
   "execution_count": 14,
   "metadata": {},
   "outputs": [
    {
     "name": "stdout",
     "output_type": "stream",
     "text": [
      "0\n",
      "1\n",
      "2\n",
      "3\n",
      "4\n",
      "5\n",
      "6\n",
      "7\n"
     ]
    }
   ],
   "source": [
    "for i in range(100):\n",
    "    print(i)\n",
    "    if i>=7:\n",
    "        break"
   ]
  },
  {
   "cell_type": "markdown",
   "metadata": {},
   "source": [
    "## Continue"
   ]
  },
  {
   "cell_type": "markdown",
   "metadata": {},
   "source": [
    "This continues the rest of the loop. Sometimes when a condition is satisfied there are chances of the loop getting terminated. This can be avoided using continue statement. "
   ]
  },
  {
   "cell_type": "code",
   "execution_count": 15,
   "metadata": {},
   "outputs": [
    {
     "name": "stdout",
     "output_type": "stream",
     "text": [
      "0\n",
      "1\n",
      "2\n",
      "3\n",
      "4\n",
      "The end.\n",
      "The end.\n",
      "The end.\n",
      "The end.\n",
      "The end.\n"
     ]
    }
   ],
   "source": [
    "for i in range(10):\n",
    "    if i>4:\n",
    "        print(\"The end.\")\n",
    "        continue\n",
    "    elif i<7:\n",
    "        print(i)"
   ]
  },
  {
   "cell_type": "code",
   "execution_count": null,
   "metadata": {},
   "outputs": [],
   "source": []
  }
 ],
 "metadata": {
  "kernelspec": {
   "display_name": "Python 3",
   "language": "python",
   "name": "python3"
  },
  "language_info": {
   "codemirror_mode": {
    "name": "ipython",
    "version": 3
   },
   "file_extension": ".py",
   "mimetype": "text/x-python",
   "name": "python",
   "nbconvert_exporter": "python",
   "pygments_lexer": "ipython3",
   "version": "3.6.5"
  }
 },
 "nbformat": 4,
 "nbformat_minor": 4
}
