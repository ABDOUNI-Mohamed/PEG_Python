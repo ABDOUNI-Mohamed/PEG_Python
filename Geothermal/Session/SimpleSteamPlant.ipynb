{
 "cells": [
  {
   "cell_type": "code",
   "execution_count": 1,
   "metadata": {},
   "outputs": [
    {
     "name": "stderr",
     "output_type": "stream",
     "text": [
      "c:\\users\\prime\\appdata\\local\\programs\\python\\python37\\lib\\site-packages\\numpy\\_distributor_init.py:32: UserWarning: loaded more than 1 DLL from .libs:\n",
      "c:\\users\\prime\\appdata\\local\\programs\\python\\python37\\lib\\site-packages\\numpy\\.libs\\libopenblas.NOIJJG62EMASZI6NYURL6JBKM4EVBGM7.gfortran-win_amd64.dll\n",
      "c:\\users\\prime\\appdata\\local\\programs\\python\\python37\\lib\\site-packages\\numpy\\.libs\\libopenblas.PYQHXLVVQ7VESDPUVUADXEVJOBGHJPAY.gfortran-win_amd64.dll\n",
      "  stacklevel=1)\n"
     ]
    }
   ],
   "source": [
    "from tespy.components import turbine, source, sink\n",
    "from tespy.connections import connection, bus\n",
    "from tespy.networks import network"
   ]
  },
  {
   "cell_type": "code",
   "execution_count": 2,
   "metadata": {},
   "outputs": [],
   "source": [
    "nw = network(\n",
    "    fluids=['BICUBIC::water'],\n",
    "    p_unit='bar', T_unit='C', h_unit='kJ / kg')"
   ]
  },
  {
   "cell_type": "code",
   "execution_count": 3,
   "metadata": {},
   "outputs": [],
   "source": [
    "hpt = turbine('high pressure turbine')\n",
    "steam = source('steam')\n",
    "cwi = sink('cold water sink')"
   ]
  },
  {
   "cell_type": "code",
   "execution_count": 4,
   "metadata": {},
   "outputs": [],
   "source": [
    "steam_hpt = connection(steam, 'out1', hpt, 'in1')\n",
    "hpt_cwi = connection(hpt, 'out1', cwi, 'in1')"
   ]
  },
  {
   "cell_type": "code",
   "execution_count": 5,
   "metadata": {},
   "outputs": [],
   "source": [
    "nw.add_conns(steam_hpt, hpt_cwi)"
   ]
  },
  {
   "cell_type": "code",
   "execution_count": 6,
   "metadata": {},
   "outputs": [],
   "source": [
    "pwr = bus('power')\n",
    "pwr.add_comps(\n",
    "    {\n",
    "        'comp': hpt, 'char': -1\n",
    "    }\n",
    ")"
   ]
  },
  {
   "cell_type": "code",
   "execution_count": 7,
   "metadata": {},
   "outputs": [],
   "source": [
    "nw.add_busses(pwr)"
   ]
  },
  {
   "cell_type": "code",
   "execution_count": 8,
   "metadata": {},
   "outputs": [],
   "source": [
    "hpt.set_attr(eta_s = 0.9)\n",
    "steam_hpt.set_attr(m=10, T=300, p=100, fluid={'water':1})\n",
    "hpt_cwi.set_attr(p=10)"
   ]
  },
  {
   "cell_type": "code",
   "execution_count": 9,
   "metadata": {},
   "outputs": [
    {
     "name": "stderr",
     "output_type": "stream",
     "text": [
      "WARNING:root:Created characteristic line for parameter eta_s_char at component high pressure turbine from default data.\n",
      "You can specify your own data using component.eta_s_char.set_attr(func=custom_char).\n",
      "If you want to disable these warnings use component.char_warnings=False.\n"
     ]
    },
    {
     "name": "stdout",
     "output_type": "stream",
     "text": [
      "iter\t| residual | massflow | pressure | enthalpy | fluid\n",
      "--------+----------+----------+----------+----------+---------\n",
      "1\t| 2.27e+05 | 9.00e+00 | 0.00e+00 | 2.27e+05 | 0.00e+00\n",
      "2\t| 5.24e-09 | 0.00e+00 | 0.00e+00 | 2.69e-08 | 0.00e+00\n",
      "3\t| 2.77e-10 | 0.00e+00 | 0.00e+00 | 2.98e-08 | 0.00e+00\n",
      "4\t| 6.26e-10 | 0.00e+00 | 0.00e+00 | 3.03e-08 | 0.00e+00\n",
      "5\t| 2.94e-11 | 0.00e+00 | 0.00e+00 | 2.99e-08 | 0.00e+00\n",
      "--------+----------+----------+----------+----------+---------\n",
      "Total iterations: 5, Calculation time: 0.0 s, Iterations per second: 194.02\n"
     ]
    }
   ],
   "source": [
    "nw.solve('design')"
   ]
  },
  {
   "cell_type": "code",
   "execution_count": 10,
   "metadata": {},
   "outputs": [
    {
     "name": "stdout",
     "output_type": "stream",
     "text": [
      "##### RESULTS (turbine) #####\n",
      "+-----------------------+-----------+----------+----------+\n",
      "| label                 |         P |    eta_s |       pr |\n",
      "|-----------------------+-----------+----------+----------|\n",
      "| high pressure turbine | -6.99e+05 | \u001b[94m9.00e-01\u001b[0m | 1.00e-01 |\n",
      "+-----------------------+-----------+----------+----------+\n",
      "##### RESULTS (connections) #####\n",
      "+---------------------------------------------------+----------------+-------------+-----------------+-----------+\n",
      "|                                                   |   m / (kg / s) |   p / (bar) |   h / (kJ / kg) |   T / (C) |\n",
      "|---------------------------------------------------+----------------+-------------+-----------------+-----------|\n",
      "| steam:out1 -> high pressure turbine:in1           |      \u001b[94m1.000e+01\u001b[0m |   \u001b[94m1.000e+02\u001b[0m |       1.343e+03 | \u001b[94m3.000e+02\u001b[0m |\n",
      "| high pressure turbine:out1 -> cold water sink:in1 |      1.000e+01 |   \u001b[94m1.000e+01\u001b[0m |       1.273e+03 | 1.799e+02 |\n",
      "+---------------------------------------------------+----------------+-------------+-----------------+-----------+\n",
      "##### RESULTS (power) #####\n",
      "+-----------------------+--------------+-------------+--------------+\n",
      "| component             |   comp value |   bus value |   efficiency |\n",
      "|-----------------------+--------------+-------------+--------------|\n",
      "| high pressure turbine |   -6.986e+05 |   6.986e+05 |   -1.000e+00 |\n",
      "| total                 |   -6.986e+05 |   6.986e+05 |  nan         |\n",
      "+-----------------------+--------------+-------------+--------------+\n"
     ]
    }
   ],
   "source": [
    "nw.print_results()"
   ]
  },
  {
   "cell_type": "code",
   "execution_count": 28,
   "metadata": {},
   "outputs": [
    {
     "name": "stderr",
     "output_type": "stream",
     "text": [
      "ERROR:root:Singularity in jacobian matrix, calculation aborted! Make sure your network does not have any linear dependencies in the parametrisation. Other reasons might be\n",
      "-> given temperature with given pressure in two phase region, try setting enthalpy instead or provide accurate starting value for pressure.\n",
      "-> given logarithmic temperature differences or kA-values for heat exchangers, \n",
      "-> support better starting values.\n",
      "-> bad starting value for fuel mass flow of combustion chamber, provide small (near to zero, but not zero) starting value.\n"
     ]
    },
    {
     "name": "stdout",
     "output_type": "stream",
     "text": [
      "iter\t| residual | massflow | pressure | enthalpy | fluid\n",
      "--------+----------+----------+----------+----------+---------\n",
      "1\t| 5.00e+01 | 0.00e+00 | 0.00e+00 | 3.66e+05 | 0.00e+00\n",
      "2\t| 5.56e+00 | 0.00e+00 | 0.00e+00 | 3.52e+04 | 0.00e+00\n",
      "3\t| 3.00e-02 | 0.00e+00 | 0.00e+00 | 1.92e+02 | 0.00e+00\n",
      "4\t| 9.32e-07 | 0.00e+00 | 0.00e+00 | 5.95e-03 | 0.00e+00\n",
      "5\t| 1.03e+04 | 0.00e+00 | 0.00e+00 | 1.03e+04 | 0.00e+00\n",
      "6\t| 4.66e-10 | 0.00e+00 | 0.00e+00 | 5.45e-10 | 0.00e+00\n",
      "--------+----------+----------+----------+----------+---------\n",
      "Total iterations: 6, Calculation time: 0.0 s, Iterations per second: 383.64\n",
      "################################################# T= 250  ################################################\n",
      "##### RESULTS (turbine) #####\n",
      "+-----------------------+-----------+----------+----------+\n",
      "| label                 |         P |    eta_s |       pr |\n",
      "|-----------------------+-----------+----------+----------|\n",
      "| high pressure turbine | -2.95e+05 | \u001b[94m9.00e-01\u001b[0m | 1.00e-01 |\n",
      "+-----------------------+-----------+----------+----------+\n",
      "##### RESULTS (connections) #####\n",
      "+---------------------------------------------------+----------------+-------------+-----------------+-----------+\n",
      "|                                                   |   m / (kg / s) |   p / (bar) |   h / (kJ / kg) |   T / (C) |\n",
      "|---------------------------------------------------+----------------+-------------+-----------------+-----------|\n",
      "| steam:out1 -> high pressure turbine:in1           |      \u001b[94m1.000e+01\u001b[0m |   \u001b[94m1.000e+02\u001b[0m |       1.086e+03 | \u001b[94m2.500e+02\u001b[0m |\n",
      "| high pressure turbine:out1 -> cold water sink:in1 |      1.000e+01 |   \u001b[94m1.000e+01\u001b[0m |       1.056e+03 | 1.799e+02 |\n",
      "+---------------------------------------------------+----------------+-------------+-----------------+-----------+\n",
      "##### RESULTS (power) #####\n",
      "+-----------------------+--------------+-------------+--------------+\n",
      "| component             |   comp value |   bus value |   efficiency |\n",
      "|-----------------------+--------------+-------------+--------------|\n",
      "| high pressure turbine |   -2.953e+05 |   2.953e+05 |   -1.000e+00 |\n",
      "| total                 |   -2.953e+05 |   2.953e+05 |  nan         |\n",
      "+-----------------------+--------------+-------------+--------------+\n",
      "iter\t| residual | massflow | pressure | enthalpy | fluid\n",
      "--------+----------+----------+----------+----------+---------\n",
      "1\t| 5.00e+01 | 0.00e+00 | 0.00e+00 | 3.19e+05 | 0.00e+00\n",
      "2\t| 3.17e+00 | 0.00e+00 | 0.00e+00 | 2.29e+04 | 0.00e+00\n",
      "3\t| 2.68e-02 | 0.00e+00 | 0.00e+00 | 1.96e+02 | 0.00e+00\n",
      "4\t| 2.04e-06 | 0.00e+00 | 0.00e+00 | 1.50e-02 | 0.00e+00\n",
      "5\t| 8.12e+03 | 0.00e+00 | 0.00e+00 | 8.12e+03 | 0.00e+00\n",
      "6\t| 1.46e-10 | 0.00e+00 | 0.00e+00 | 7.49e-10 | 0.00e+00\n",
      "--------+----------+----------+----------+----------+---------\n",
      "Total iterations: 6, Calculation time: 0.0 s, Iterations per second: 678.47\n",
      "################################################# T= 300  ################################################\n",
      "##### RESULTS (turbine) #####\n",
      "+-----------------------+-----------+----------+----------+\n",
      "| label                 |         P |    eta_s |       pr |\n",
      "|-----------------------+-----------+----------+----------|\n",
      "| high pressure turbine | -6.99e+05 | \u001b[94m9.00e-01\u001b[0m | 1.00e-01 |\n",
      "+-----------------------+-----------+----------+----------+\n",
      "##### RESULTS (connections) #####\n",
      "+---------------------------------------------------+----------------+-------------+-----------------+-----------+\n",
      "|                                                   |   m / (kg / s) |   p / (bar) |   h / (kJ / kg) |   T / (C) |\n",
      "|---------------------------------------------------+----------------+-------------+-----------------+-----------|\n",
      "| steam:out1 -> high pressure turbine:in1           |      \u001b[94m1.000e+01\u001b[0m |   \u001b[94m1.000e+02\u001b[0m |       1.343e+03 | \u001b[94m3.000e+02\u001b[0m |\n",
      "| high pressure turbine:out1 -> cold water sink:in1 |      1.000e+01 |   \u001b[94m1.000e+01\u001b[0m |       1.273e+03 | 1.799e+02 |\n",
      "+---------------------------------------------------+----------------+-------------+-----------------+-----------+\n",
      "##### RESULTS (power) #####\n",
      "+-----------------------+--------------+-------------+--------------+\n",
      "| component             |   comp value |   bus value |   efficiency |\n",
      "|-----------------------+--------------+-------------+--------------|\n",
      "| high pressure turbine |   -6.986e+05 |   6.986e+05 |   -1.000e+00 |\n",
      "| total                 |   -6.986e+05 |   6.986e+05 |  nan         |\n",
      "+-----------------------+--------------+-------------+--------------+\n",
      "iter\t| residual | massflow | pressure | enthalpy | fluid\n",
      "--------+----------+----------+----------+----------+---------\n",
      "1\t| 5.00e+01 | 0.00e+00 | 0.00e+00 | 3.66e+05 | 0.00e+00\n",
      "2\t| 3.90e+01 |      nan |      nan |      nan |      nan\n",
      "--------+----------+----------+----------+----------+---------\n",
      "Total iterations: 2, Calculation time: 0.0 s, Iterations per second: 297.65\n"
     ]
    },
    {
     "name": "stderr",
     "output_type": "stream",
     "text": [
      "ERROR:root:Singularity in jacobian matrix, calculation aborted! Make sure your network does not have any linear dependencies in the parametrisation. Other reasons might be\n",
      "-> given temperature with given pressure in two phase region, try setting enthalpy instead or provide accurate starting value for pressure.\n",
      "-> given logarithmic temperature differences or kA-values for heat exchangers, \n",
      "-> support better starting values.\n",
      "-> bad starting value for fuel mass flow of combustion chamber, provide small (near to zero, but not zero) starting value.\n"
     ]
    },
    {
     "name": "stdout",
     "output_type": "stream",
     "text": [
      "################################################# T= 350  ################################################\n",
      "##### RESULTS (turbine) #####\n",
      "+-----------------------+-----------+----------+----------+\n",
      "| label                 |         P |    eta_s |       pr |\n",
      "|-----------------------+-----------+----------+----------|\n",
      "| high pressure turbine | -6.99e+05 | \u001b[94m9.00e-01\u001b[0m | 1.00e-01 |\n",
      "+-----------------------+-----------+----------+----------+\n",
      "##### RESULTS (connections) #####\n",
      "+---------------------------------------------------+----------------+-------------+-----------------+-----------+\n",
      "|                                                   |   m / (kg / s) |   p / (bar) |   h / (kJ / kg) |   T / (C) |\n",
      "|---------------------------------------------------+----------------+-------------+-----------------+-----------|\n",
      "| steam:out1 -> high pressure turbine:in1           |      \u001b[94m1.000e+01\u001b[0m |   \u001b[94m1.000e+02\u001b[0m |       1.343e+03 | \u001b[94m3.500e+02\u001b[0m |\n",
      "| high pressure turbine:out1 -> cold water sink:in1 |      1.000e+01 |   \u001b[94m1.000e+01\u001b[0m |       1.273e+03 | 1.799e+02 |\n",
      "+---------------------------------------------------+----------------+-------------+-----------------+-----------+\n",
      "##### RESULTS (power) #####\n",
      "+-----------------------+--------------+-------------+--------------+\n",
      "| component             |   comp value |   bus value |   efficiency |\n",
      "|-----------------------+--------------+-------------+--------------|\n",
      "| high pressure turbine |   -1.234e+06 |   1.234e+06 |   -1.000e+00 |\n",
      "| total                 |   -1.234e+06 |   1.234e+06 |  nan         |\n",
      "+-----------------------+--------------+-------------+--------------+\n",
      "iter\t| residual | massflow | pressure | enthalpy | fluid\n",
      "--------+----------+----------+----------+----------+---------\n",
      "1\t| 1.00e+02 | 0.00e+00 | 0.00e+00 | 7.32e+05 | 0.00e+00\n",
      "2\t| 8.90e+01 |      nan |      nan |      nan |      nan\n",
      "--------+----------+----------+----------+----------+---------\n",
      "Total iterations: 2, Calculation time: 0.0 s, Iterations per second: 478.94\n",
      "################################################# T= 400  ################################################\n",
      "##### RESULTS (turbine) #####\n",
      "+-----------------------+-----------+----------+----------+\n",
      "| label                 |         P |    eta_s |       pr |\n",
      "|-----------------------+-----------+----------+----------|\n",
      "| high pressure turbine | -6.99e+05 | \u001b[94m9.00e-01\u001b[0m | 1.00e-01 |\n",
      "+-----------------------+-----------+----------+----------+\n",
      "##### RESULTS (connections) #####\n",
      "+---------------------------------------------------+----------------+-------------+-----------------+-----------+\n",
      "|                                                   |   m / (kg / s) |   p / (bar) |   h / (kJ / kg) |   T / (C) |\n",
      "|---------------------------------------------------+----------------+-------------+-----------------+-----------|\n",
      "| steam:out1 -> high pressure turbine:in1           |      \u001b[94m1.000e+01\u001b[0m |   \u001b[94m1.000e+02\u001b[0m |       1.343e+03 | \u001b[94m4.000e+02\u001b[0m |\n",
      "| high pressure turbine:out1 -> cold water sink:in1 |      1.000e+01 |   \u001b[94m1.000e+01\u001b[0m |       1.273e+03 | 1.799e+02 |\n",
      "+---------------------------------------------------+----------------+-------------+-----------------+-----------+\n",
      "##### RESULTS (power) #####\n",
      "+-----------------------+--------------+-------------+--------------+\n",
      "| component             |   comp value |   bus value |   efficiency |\n",
      "|-----------------------+--------------+-------------+--------------|\n",
      "| high pressure turbine |   -1.770e+06 |   1.770e+06 |   -1.000e+00 |\n",
      "| total                 |   -1.770e+06 |   1.770e+06 |  nan         |\n",
      "+-----------------------+--------------+-------------+--------------+\n"
     ]
    }
   ],
   "source": [
    "Temperatures_steam = [250, 300, 350, 400]\n",
    "for temp in Temperatures_steam:\n",
    "    steam_hpt.set_attr(m=10, T=temp, p=100, fluid={'water':1})\n",
    "    nw.solve('design')\n",
    "    print('################################################# T=', temp, ' ################################################')\n",
    "    nw.print_results()"
   ]
  },
  {
   "cell_type": "code",
   "execution_count": null,
   "metadata": {},
   "outputs": [],
   "source": []
  }
 ],
 "metadata": {
  "kernelspec": {
   "display_name": "Python 3",
   "language": "python",
   "name": "python3"
  },
  "language_info": {
   "codemirror_mode": {
    "name": "ipython",
    "version": 3
   },
   "file_extension": ".py",
   "mimetype": "text/x-python",
   "name": "python",
   "nbconvert_exporter": "python",
   "pygments_lexer": "ipython3",
   "version": "3.7.1"
  }
 },
 "nbformat": 4,
 "nbformat_minor": 4
}
