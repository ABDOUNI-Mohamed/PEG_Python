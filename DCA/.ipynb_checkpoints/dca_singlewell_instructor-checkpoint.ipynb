{
 "cells": [
  {
   "cell_type": "markdown",
   "metadata": {},
   "source": [
    "## The following is an extraction of monthly average oil production rate from well 156490, Vaca Muerta, specifically Loma Campana concession. In this activity we will expand on the concepts of lists, native python libraries, if statements and for loops. We will be using Duong equation to fit the production data."
   ]
  },
  {
   "cell_type": "code",
   "execution_count": 96,
   "metadata": {
    "scrolled": false
   },
   "outputs": [],
   "source": [
    "import datetime as dt\n",
    "import math\n",
    "\n",
    "\n",
    "dates = ['2016-03-31 00:00:00', '2016-04-30 00:00:00', '2016-05-31 00:00:00', '2016-06-30 00:00:00', \n",
    "         '2016-07-31 00:00:00', '2016-08-31 00:00:00', '2016-09-30 00:00:00', '2016-10-31 00:00:00', \n",
    "         '2016-11-30 00:00:00', '2016-12-31 00:00:00', '2017-01-31 00:00:00', '2017-02-28 00:00:00', \n",
    "         '2017-03-31 00:00:00', '2017-04-30 00:00:00', '2017-05-31 00:00:00', '2017-06-30 00:00:00', \n",
    "         '2017-07-31 00:00:00', '2017-08-31 00:00:00', '2017-09-30 00:00:00', '2017-10-31 00:00:00', \n",
    "         '2017-11-30 00:00:00', '2017-12-31 00:00:00', '2018-01-31 00:00:00', '2018-02-28 00:00:00', \n",
    "         '2018-03-31 00:00:00', '2018-04-30 00:00:00', '2018-05-31 00:00:00']\n",
    "\n",
    "well_rate = [248.956137704918, 434.084242622951, 383.696186885246, 400.761678688525, 322.644003278689, \n",
    "             225.643954098361, 208.289740983607, 168.054363934426, 145.511416393443, 150.106209836066, \n",
    "             133.21188852459, 112.300216393443, 114.898708196721, 103.527213114754, 137.146747540984, \n",
    "             204.845708196721, 186.109757377049, 153.191403278689, 156.666370491803, 145.631029508197, \n",
    "             142.323108196721, 144.104931147541, 130.759819672131, 118.414921311475, 129.520380327869, \n",
    "             119.386262295082, 120.372039344262]\n",
    "    "
   ]
  },
  {
   "cell_type": "code",
   "execution_count": 97,
   "metadata": {},
   "outputs": [
    {
     "name": "stdout",
     "output_type": "stream",
     "text": [
      "[datetime.datetime(2016, 3, 31, 0, 0), datetime.datetime(2016, 4, 30, 0, 0), datetime.datetime(2016, 5, 31, 0, 0), datetime.datetime(2016, 6, 30, 0, 0), datetime.datetime(2016, 7, 31, 0, 0), datetime.datetime(2016, 8, 31, 0, 0), datetime.datetime(2016, 9, 30, 0, 0), datetime.datetime(2016, 10, 31, 0, 0), datetime.datetime(2016, 11, 30, 0, 0), datetime.datetime(2016, 12, 31, 0, 0), datetime.datetime(2017, 1, 31, 0, 0), datetime.datetime(2017, 2, 28, 0, 0), datetime.datetime(2017, 3, 31, 0, 0), datetime.datetime(2017, 4, 30, 0, 0), datetime.datetime(2017, 5, 31, 0, 0), datetime.datetime(2017, 6, 30, 0, 0), datetime.datetime(2017, 7, 31, 0, 0), datetime.datetime(2017, 8, 31, 0, 0), datetime.datetime(2017, 9, 30, 0, 0), datetime.datetime(2017, 10, 31, 0, 0), datetime.datetime(2017, 11, 30, 0, 0), datetime.datetime(2017, 12, 31, 0, 0), datetime.datetime(2018, 1, 31, 0, 0), datetime.datetime(2018, 2, 28, 0, 0), datetime.datetime(2018, 3, 31, 0, 0), datetime.datetime(2018, 4, 30, 0, 0), datetime.datetime(2018, 5, 31, 0, 0)]\n"
     ]
    }
   ],
   "source": [
    "new_dates = []\n",
    "for x in dates:\n",
    "    this_date = dt.datetime.strptime(x, '%Y-%m-%d %H:%M:%S')\n",
    "    new_dates.append(this_date)\n",
    "print(new_dates)"
   ]
  },
  {
   "cell_type": "code",
   "execution_count": 98,
   "metadata": {},
   "outputs": [
    {
     "name": "stdout",
     "output_type": "stream",
     "text": [
      "[0, 30, 61, 91, 122, 153, 183, 214, 244, 275, 306, 334, 365, 395, 426, 456, 487, 518, 548, 579, 609, 640, 671, 699, 730, 760, 791]\n"
     ]
    }
   ],
   "source": [
    "min_time = min(new_dates)\n",
    "\n",
    "\n",
    "time = []\n",
    "for x in new_dates:\n",
    "    this_time = x - min_time\n",
    "    this_time = this_time.days\n",
    "    time.append(this_time)\n",
    "print(time)"
   ]
  },
  {
   "cell_type": "code",
   "execution_count": 99,
   "metadata": {},
   "outputs": [],
   "source": [
    "qi = 250.0\n",
    "t = [1, 30, 60, 90, 120, 150, 180, 210, 240, 270, 300, 330, \n",
    "     360, 390, 420, 450, 480, 510, 540, 570, 600, 630, 660, \n",
    "     690, 720, 750, 780, 810, 840, 870, 900, 930, 960, 990,\n",
    "    1020, 1050, 1080, 1100, 1140, 1170, 1180, 1210, 1240]\n",
    "m = 1.18\n",
    "a = 1.8\n"
   ]
  },
  {
   "cell_type": "markdown",
   "metadata": {},
   "source": [
    "### The Doung equation is usually used to fit unconventional production decline, the rate equation is defined as:\n",
    "\n",
    "$$ q=q_it^{-m}\\exp ^{\\frac{a}{1-m}(t^{1-m}-1)}$$\n",
    "\n"
   ]
  },
  {
   "cell_type": "code",
   "execution_count": 100,
   "metadata": {},
   "outputs": [
    {
     "name": "stdout",
     "output_type": "stream",
     "text": [
      "[250.0, 439.9073276133926, 366.71105881926525, 318.28666424289605, 283.7213005626551, 257.4924518635194, 236.7161686909101, 219.73596992800097, 205.52507848058974, 193.40854572082884, 182.92179140742073, 173.73301115506587, 165.597960826317, 158.3322674355564, 151.79375811569992, 145.87078264893327, 140.47426340725858, 135.53214178164586, 130.98541052842342, 126.78522249882033, 122.89074642116056, 119.26755157024284, 115.88637359062096, 112.72215944318964, 109.75331974399474, 106.9611372455704, 104.32929430210253, 101.84349201150646, 99.49114071774879, 97.26110658438525, 95.14350261186591, 93.1295151690013, 91.21125911819344, 89.38165612552483, 87.63433189449592, 85.96352894136427, 84.36403220902581, 83.33495868915875, 81.36043588205847, 79.94808789166588, 79.48963430407662, 78.14950033787174, 76.85974760634618]\n"
     ]
    }
   ],
   "source": [
    "q = []\n",
    "for x in t:\n",
    "    qx = (qi * math.pow(x,-m))* math.exp((a / (1 - m)) * ((math.pow(x,(1-m))) - 1))\n",
    "    q.append(qx)\n",
    "print(q)"
   ]
  },
  {
   "cell_type": "markdown",
   "metadata": {},
   "source": [
    "### Do not worry about the following line, we will cover the some concepts later on, meanwhile just check your results in the plot"
   ]
  },
  {
   "cell_type": "code",
   "execution_count": 101,
   "metadata": {},
   "outputs": [
    {
     "data": {
      "image/png": "[encoded data removed]",
      "text/plain": [
       "<Figure size 432x288 with 1 Axes>"
      ]
     },
     "metadata": {},
     "output_type": "display_data"
    }
   ],
   "source": [
    "import matplotlib.pyplot as plt\n",
    "plt.plot(t,q,color='green')\n",
    "plt.plot(time,well_rate,\"x\",color = 'black')\n",
    "plt.show(block=True)"
   ]
  },
  {
   "cell_type": "markdown",
   "metadata": {},
   "source": [
    "### Now assume that the well is only able to produce up to 90 m3/d"
   ]
  },
  {
   "cell_type": "code",
   "execution_count": 102,
   "metadata": {},
   "outputs": [
    {
     "name": "stdout",
     "output_type": "stream",
     "text": [
      "[250.0, 439.9073276133926, 366.71105881926525, 318.28666424289605, 283.7213005626551, 257.4924518635194, 236.7161686909101, 219.73596992800097, 205.52507848058974, 193.40854572082884, 182.92179140742073, 173.73301115506587, 165.597960826317, 158.3322674355564, 151.79375811569992, 145.87078264893327, 140.47426340725858, 135.53214178164586, 130.98541052842342, 126.78522249882033, 122.89074642116056, 119.26755157024284, 115.88637359062096, 112.72215944318964, 109.75331974399474, 106.9611372455704, 104.32929430210253, 101.84349201150646, 99.49114071774879, 97.26110658438525, 95.14350261186591, 93.1295151690013, 91.21125911819344, 0, 0, 0, 0, 0, 0, 0, 0, 0, 0]\n"
     ]
    }
   ],
   "source": [
    "q = []\n",
    "for x in t:\n",
    "    qx = (qi * math.pow(x,-m))* math.exp((a / (1 - m)) * ((math.pow(x,(1-m))) - 1))\n",
    "    if qx < 90:\n",
    "        qx = 0\n",
    "    q.append(qx)\n",
    "print(q)"
   ]
  },
  {
   "cell_type": "markdown",
   "metadata": {},
   "source": [
    "### Do not worry about the following line, we will cover the some concepts later on, meanwhile just check your results in the plot"
   ]
  },
  {
   "cell_type": "code",
   "execution_count": 103,
   "metadata": {},
   "outputs": [
    {
     "data": {
      "image/png": "[encoded data removed]",
      "text/plain": [
       "<Figure size 432x288 with 1 Axes>"
      ]
     },
     "metadata": {},
     "output_type": "display_data"
    }
   ],
   "source": [
    "plt.plot(t,q,color='green')\n",
    "plt.plot(time,well_rate,\"x\",color = 'black')\n",
    "plt.show(block=True)"
   ]
  },
  {
   "cell_type": "code",
   "execution_count": null,
   "metadata": {},
   "outputs": [],
   "source": []
  }
 ],
 "metadata": {
  "kernelspec": {
   "display_name": "Python 3",
   "language": "python",
   "name": "python3"
  },
  "language_info": {
   "codemirror_mode": {
    "name": "ipython",
    "version": 3
   },
   "file_extension": ".py",
   "mimetype": "text/x-python",
   "name": "python",
   "nbconvert_exporter": "python",
   "pygments_lexer": "ipython3",
   "version": "3.6.5"
  }
 },
 "nbformat": 4,
 "nbformat_minor": 2
}
