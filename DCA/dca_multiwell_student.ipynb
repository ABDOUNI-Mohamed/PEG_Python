{
 "cells": [
  {
   "cell_type": "markdown",
   "metadata": {},
   "source": [
    "## Following the activity with Vaca Muerta well 156490, let's fit automatically 4 wells from the Loma Campana concession. For this we will need to understand the following concepts:\n",
    "- Functions\n",
    "- Opening Excel files\n",
    "- Pandas DataFramesLStoring data into a DataFrame\n",
    "- Use of SciPy functionalities to find Duong coefficients for each well\n",
    "- Exercise some advanced functionalites in Matplotlib"
   ]
  },
  {
   "cell_type": "code",
   "execution_count": 1,
   "metadata": {},
   "outputs": [],
   "source": [
    "import numpy as np\n",
    "import matplotlib.pyplot as plt\n",
    "import pandas as pd\n",
    "from scipy.optimize import curve_fit"
   ]
  },
  {
   "cell_type": "markdown",
   "metadata": {},
   "source": [
    "Define the Duong equation as a Function. Functions are an extremely useful way to reutilise part of your code."
   ]
  },
  {
   "cell_type": "code",
   "execution_count": 2,
   "metadata": {},
   "outputs": [],
   "source": [
    "def duong(t, qi, m, a):\n",
    "\n",
    "    q = (qi * np.power(t,-m))* np.exp((a / (1 - m)) * ((np.power(t,(1-m))) - 1))\n",
    "    return q"
   ]
  },
  {
   "cell_type": "markdown",
   "metadata": {},
   "source": [
    "Open the Excel directly into a Pandas data frame."
   ]
  },
  {
   "cell_type": "code",
   "execution_count": null,
   "metadata": {},
   "outputs": [],
   "source": [
    "df = pd.read_excel(___)\n",
    "print(df.head(___)) #print top 5 rows"
   ]
  },
  {
   "cell_type": "markdown",
   "metadata": {},
   "source": [
    "The following is a simple operation to add an extra column with Time instead of Dates."
   ]
  },
  {
   "cell_type": "code",
   "execution_count": null,
   "metadata": {},
   "outputs": [],
   "source": [
    "dates = np.array(df['fecha_data'])\n",
    "\n",
    "min_time = min(df['fecha_data'])\n",
    "df['time'] = df['fecha_data'] - min_time"
   ]
  },
  {
   "cell_type": "markdown",
   "metadata": {},
   "source": [
    "Let's get some critical information about the dataframe, such as the name of the wells in the header of the columns and the column date."
   ]
  },
  {
   "cell_type": "code",
   "execution_count": 5,
   "metadata": {},
   "outputs": [
    {
     "name": "stdout",
     "output_type": "stream",
     "text": [
      "\n"
     ]
    }
   ],
   "source": [
    "well_id = [___]\n",
    "well_color = [___]\n",
    "well_count = len(well_id)\n",
    "print()"
   ]
  },
  {
   "cell_type": "markdown",
   "metadata": {},
   "source": [
    "In the next step is where the fit should occur. Make sure to iterate over each well to get the initial rate, m and a coefficients. The curve_fit function is set as a placeholder for you to complete."
   ]
  },
  {
   "cell_type": "code",
   "execution_count": null,
   "metadata": {},
   "outputs": [],
   "source": [
    "t = np.linspace(1,1000,100)\n",
    "for x in range(well_count):\n",
    "    popt, pcov = curve_fit(___)\n",
    "    print(___) #print Coefficients per well\n",
    "    plt.plot(df['time'].dt.days,df[well_id[x]],color = well_color[x])\n",
    "    q = duong(t, popt[0], popt[1], popt[2])\n",
    "    plt.plot(t, q, \"x\", color='purple')\n",
    "    plt.title(well_id[x])\n",
    "    #fig1.add_subplot(221)\n",
    "    plt.show(block=True)"
   ]
  },
  {
   "cell_type": "markdown",
   "metadata": {},
   "source": [
    "Homework: Place each well in a subplot"
   ]
  },
  {
   "cell_type": "code",
   "execution_count": 7,
   "metadata": {},
   "outputs": [
    {
     "data": {
      "image/png": "[encoded data removed]",
      "text/plain": [
       "<Figure size 432x288 with 4 Axes>"
      ]
     },
     "metadata": {},
     "output_type": "display_data"
    }
   ],
   "source": [
    "fig1, f1_axes = plt.subplots(ncols=2, nrows=2, constrained_layout=True)\n",
    "plt.show()"
   ]
  },
  {
   "cell_type": "code",
   "execution_count": null,
   "metadata": {},
   "outputs": [],
   "source": []
  }
 ],
 "metadata": {
  "kernelspec": {
   "display_name": "Python 3",
   "language": "python",
   "name": "python3"
  },
  "language_info": {
   "codemirror_mode": {
    "name": "ipython",
    "version": 3
   },
   "file_extension": ".py",
   "mimetype": "text/x-python",
   "name": "python",
   "nbconvert_exporter": "python",
   "pygments_lexer": "ipython3",
   "version": "3.6.5"
  }
 },
 "nbformat": 4,
 "nbformat_minor": 4
}
