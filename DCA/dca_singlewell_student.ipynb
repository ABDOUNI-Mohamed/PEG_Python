{
 "cells": [
  {
   "cell_type": "markdown",
   "metadata": {},
   "source": [
    "## The following is an extraction of monthly average oil production rate from well 156490, Vaca Muerta, specifically Loma Campana concession. In this activity we will expand on the concepts of lists, native python libraries, if statements and for loops. We will be using Duong equation to fit the production data."
   ]
  },
  {
   "cell_type": "code",
   "execution_count": 8,
   "metadata": {},
   "outputs": [],
   "source": [
    "import datetime as dt\n",
    "import math\n",
    "import matplotlib.pyplot as plt"
   ]
  },
  {
   "cell_type": "code",
   "execution_count": 10,
   "metadata": {},
   "outputs": [],
   "source": [
    "dates = ['2016-03-31 00:00:00', '2016-04-30 00:00:00', '2016-05-31 00:00:00', '2016-06-30 00:00:00', \n",
    "         '2016-07-31 00:00:00', '2016-08-31 00:00:00', '2016-09-30 00:00:00', '2016-10-31 00:00:00', \n",
    "         '2016-11-30 00:00:00', '2016-12-31 00:00:00', '2017-01-31 00:00:00', '2017-02-28 00:00:00', \n",
    "         '2017-03-31 00:00:00', '2017-04-30 00:00:00', '2017-05-31 00:00:00', '2017-06-30 00:00:00', \n",
    "         '2017-07-31 00:00:00', '2017-08-31 00:00:00', '2017-09-30 00:00:00', '2017-10-31 00:00:00', \n",
    "         '2017-11-30 00:00:00', '2017-12-31 00:00:00', '2018-01-31 00:00:00', '2018-02-28 00:00:00', \n",
    "         '2018-03-31 00:00:00', '2018-04-30 00:00:00', '2018-05-31 00:00:00']\n",
    "\n",
    "well_rate = [248.956137704918, 434.084242622951, 383.696186885246, 400.761678688525, 322.644003278689, \n",
    "             225.643954098361, 208.289740983607, 168.054363934426, 145.511416393443, 150.106209836066, \n",
    "             133.21188852459, 112.300216393443, 114.898708196721, 103.527213114754, 137.146747540984, \n",
    "             204.845708196721, 186.109757377049, 153.191403278689, 156.666370491803, 145.631029508197, \n",
    "             142.323108196721, 144.104931147541, 130.759819672131, 118.414921311475, 129.520380327869, \n",
    "             119.386262295082, 120.372039344262]\n",
    "    "
   ]
  },
  {
   "cell_type": "code",
   "execution_count": 11,
   "metadata": {},
   "outputs": [
    {
     "name": "stdout",
     "output_type": "stream",
     "text": [
      "[datetime.datetime(2016, 3, 31, 0, 0), datetime.datetime(2016, 4, 30, 0, 0), datetime.datetime(2016, 5, 31, 0, 0), datetime.datetime(2016, 6, 30, 0, 0), datetime.datetime(2016, 7, 31, 0, 0), datetime.datetime(2016, 8, 31, 0, 0), datetime.datetime(2016, 9, 30, 0, 0), datetime.datetime(2016, 10, 31, 0, 0), datetime.datetime(2016, 11, 30, 0, 0), datetime.datetime(2016, 12, 31, 0, 0), datetime.datetime(2017, 1, 31, 0, 0), datetime.datetime(2017, 2, 28, 0, 0), datetime.datetime(2017, 3, 31, 0, 0), datetime.datetime(2017, 4, 30, 0, 0), datetime.datetime(2017, 5, 31, 0, 0), datetime.datetime(2017, 6, 30, 0, 0), datetime.datetime(2017, 7, 31, 0, 0), datetime.datetime(2017, 8, 31, 0, 0), datetime.datetime(2017, 9, 30, 0, 0), datetime.datetime(2017, 10, 31, 0, 0), datetime.datetime(2017, 11, 30, 0, 0), datetime.datetime(2017, 12, 31, 0, 0), datetime.datetime(2018, 1, 31, 0, 0), datetime.datetime(2018, 2, 28, 0, 0), datetime.datetime(2018, 3, 31, 0, 0), datetime.datetime(2018, 4, 30, 0, 0), datetime.datetime(2018, 5, 31, 0, 0)]\n"
     ]
    }
   ],
   "source": [
    "new_dates = []\n",
    "for x in dates:\n",
    "    this_date = dt.datetime.strptime(x, '%Y-%m-%d %H:%M:%S')\n",
    "    new_dates.append(this_date)\n",
    "print(new_dates)"
   ]
  },
  {
   "cell_type": "code",
   "execution_count": 12,
   "metadata": {},
   "outputs": [
    {
     "name": "stdout",
     "output_type": "stream",
     "text": [
      "[0, 30, 61, 91, 122, 153, 183, 214, 244, 275, 306, 334, 365, 395, 426, 456, 487, 518, 548, 579, 609, 640, 671, 699, 730, 760, 791]\n"
     ]
    }
   ],
   "source": [
    "min_date =  min(new_dates)\n",
    "time = []\n",
    "for date in new_dates:\n",
    "    this_time = date - min_date\n",
    "    this_time = this_time.days\n",
    "    time.append(this_time)\n",
    "print(time)"
   ]
  },
  {
   "cell_type": "code",
   "execution_count": 13,
   "metadata": {},
   "outputs": [],
   "source": [
    "qi = 250.0\n",
    "timex = [1, 30, 60, 90, 120, 150, 180, 210, 240, 270, 300, 330, \n",
    "     360, 390, 420, 450, 480, 510, 540, 570, 600, 630, 660, \n",
    "     690, 720, 750, 780, 810, 840, 870, 900, 930, 960, 990,\n",
    "    1020, 1050, 1080, 1100, 1140, 1170, 1180, 1210, 1240]\n",
    "m = ___\n",
    "a = ___\n"
   ]
  },
  {
   "cell_type": "markdown",
   "metadata": {},
   "source": [
    "### The Doung equation is usually used to fit unconventional production decline, the rate equation is defined as:\n",
    "\n",
    "$$ q=q_it^{-m}\\exp ^{\\frac{a}{1-m}(t^{1-m}-1)}$$\n",
    "\n"
   ]
  },
  {
   "cell_type": "code",
   "execution_count": 14,
   "metadata": {},
   "outputs": [
    {
     "name": "stdout",
     "output_type": "stream",
     "text": [
      "['', '', '', '', '', '', '', '', '', '', '', '', '', '', '', '', '', '', '', '', '', '', '', '', '', '', '', '', '', '', '', '', '', '', '', '', '', '', '', '', '', '', '']\n"
     ]
    }
   ],
   "source": [
    "#Return Rate using Duong equation in a new list called \"q\" for all values of list \"t\"\n",
    "q = []\n",
    "### Write your code her using a for or while loop, hint: use append method from the list.\n",
    "\n",
    "for t in timex:\n",
    "    qx = (___)\n",
    "    q.append(qx)\n",
    "    \n",
    "### End of your code    \n",
    "print(q)"
   ]
  },
  {
   "cell_type": "markdown",
   "metadata": {},
   "source": [
    "### Do not worry about the following line, we will cover the some concepts later on, meanwhile just check your results in the plot"
   ]
  },
  {
   "cell_type": "code",
   "execution_count": 15,
   "metadata": {},
   "outputs": [
    {
     "data": {
      "image/png": "[encoded data removed]",
      "text/plain": [
       "<Figure size 432x288 with 1 Axes>"
      ]
     },
     "metadata": {},
     "output_type": "display_data"
    }
   ],
   "source": [
    "plt.plot(timex,q,color='green')\n",
    "plt.plot(time,well_rate,\"x\",color = 'black')\n",
    "plt.show(block=True)"
   ]
  },
  {
   "cell_type": "markdown",
   "metadata": {},
   "source": [
    "### Now assume that the well is only able to produce up to 90 m3/d"
   ]
  },
  {
   "cell_type": "code",
   "execution_count": null,
   "metadata": {},
   "outputs": [],
   "source": [
    "#Return Rate using Duong equation in a new list called \"q\" for all values of list \"t\", if rate is lower than 90 m3/d, rate value should be set to 0.\n",
    "q2 = []\n",
    "### Write your code her using a for or while loop with if statement, hint: use append method from the list.\n",
    "\n",
    "for t in timex:\n",
    "    qx = (qi*math.pow(t,-m))*math.exp((a/(1-m))*((math.pow(t,(1-m)))-1))\n",
    "    if ___:\n",
    "        qx =0\n",
    "    q2.append(qx)\n",
    "    \n",
    "### End of your code  \n",
    "\n",
    "print(q)"
   ]
  },
  {
   "cell_type": "markdown",
   "metadata": {},
   "source": [
    "### Do not worry about the following line, we will cover the some concepts later on, meanwhile just check your results in the plot"
   ]
  },
  {
   "cell_type": "code",
   "execution_count": null,
   "metadata": {},
   "outputs": [],
   "source": [
    "plt.plot(timex,q2,color='green')\n",
    "plt.plot(time,well_rate,\"x\",color = 'black')\n",
    "plt.show(block=True)"
   ]
  },
  {
   "cell_type": "code",
   "execution_count": null,
   "metadata": {},
   "outputs": [],
   "source": []
  }
 ],
 "metadata": {
  "kernelspec": {
   "display_name": "Python 3",
   "language": "python",
   "name": "python3"
  },
  "language_info": {
   "codemirror_mode": {
    "name": "ipython",
    "version": 3
   },
   "file_extension": ".py",
   "mimetype": "text/x-python",
   "name": "python",
   "nbconvert_exporter": "python",
   "pygments_lexer": "ipython3",
   "version": "3.6.5"
  }
 },
 "nbformat": 4,
 "nbformat_minor": 4
}
