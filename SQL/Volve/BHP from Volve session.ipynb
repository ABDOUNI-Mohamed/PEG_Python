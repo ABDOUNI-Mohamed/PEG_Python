{
 "cells": [
  {
   "cell_type": "markdown",
   "metadata": {},
   "source": [
    "# BHP calculation using psapy library with Volve well and actual BHP comparison"
   ]
  },
  {
   "cell_type": "code",
   "execution_count": 57,
   "metadata": {},
   "outputs": [],
   "source": [
    "import welly\n",
    "from bs4 import BeautifulSoup\n",
    "import pandas as pd\n",
    "import psapy.BeggsandBrill as BB\n",
    "import credentials\n",
    "import sqlalchemy as db\n",
    "import matplotlib.pyplot as plt\n",
    "import numpy as np"
   ]
  },
  {
   "cell_type": "code",
   "execution_count": 2,
   "metadata": {},
   "outputs": [],
   "source": [
    "WITSML_file = r\"M:\\Volve\\WITSML Realtime drilling data\\Norway-Statoil-NO 15_$47$_9-F-15\\2\\trajectory\\1.xml\""
   ]
  },
  {
   "cell_type": "code",
   "execution_count": 60,
   "metadata": {},
   "outputs": [],
   "source": [
    "with open(WITSML_file) as f:\n",
    "    data = f.read()\n",
    "data_xml = BeautifulSoup(data, 'xml')"
   ]
  },
  {
   "cell_type": "code",
   "execution_count": 61,
   "metadata": {},
   "outputs": [],
   "source": [
    "columns = ['azi', 'md', 'tvd', 'incl', 'dispNs', 'dispEw']\n",
    "df = pd.DataFrame()\n",
    "for col in columns:\n",
    "    df[col] = [float(x.text) for x in data_xml.find_all(col)]"
   ]
  },
  {
   "cell_type": "code",
   "execution_count": 62,
   "metadata": {},
   "outputs": [],
   "source": [
    "df['well'] = '9-F-15'"
   ]
  },
  {
   "cell_type": "code",
   "execution_count": 63,
   "metadata": {},
   "outputs": [
    {
     "data": {
      "text/html": [
       "<div>\n",
       "<style scoped>\n",
       "    .dataframe tbody tr th:only-of-type {\n",
       "        vertical-align: middle;\n",
       "    }\n",
       "\n",
       "    .dataframe tbody tr th {\n",
       "        vertical-align: top;\n",
       "    }\n",
       "\n",
       "    .dataframe thead th {\n",
       "        text-align: right;\n",
       "    }\n",
       "</style>\n",
       "<table border=\"1\" class=\"dataframe\">\n",
       "  <thead>\n",
       "    <tr style=\"text-align: right;\">\n",
       "      <th></th>\n",
       "      <th>azi</th>\n",
       "      <th>md</th>\n",
       "      <th>tvd</th>\n",
       "      <th>incl</th>\n",
       "      <th>dispNs</th>\n",
       "      <th>dispEw</th>\n",
       "      <th>well</th>\n",
       "    </tr>\n",
       "  </thead>\n",
       "  <tbody>\n",
       "    <tr>\n",
       "      <th>0</th>\n",
       "      <td>0.00</td>\n",
       "      <td>0.0000</td>\n",
       "      <td>0.0000</td>\n",
       "      <td>0.00</td>\n",
       "      <td>-3.1700</td>\n",
       "      <td>3.5300</td>\n",
       "      <td>9-F-15</td>\n",
       "    </tr>\n",
       "    <tr>\n",
       "      <th>1</th>\n",
       "      <td>0.00</td>\n",
       "      <td>145.9000</td>\n",
       "      <td>145.9000</td>\n",
       "      <td>0.00</td>\n",
       "      <td>-3.1700</td>\n",
       "      <td>3.5300</td>\n",
       "      <td>9-F-15</td>\n",
       "    </tr>\n",
       "    <tr>\n",
       "      <th>2</th>\n",
       "      <td>253.69</td>\n",
       "      <td>153.4000</td>\n",
       "      <td>153.4000</td>\n",
       "      <td>0.15</td>\n",
       "      <td>-3.1728</td>\n",
       "      <td>3.5206</td>\n",
       "      <td>9-F-15</td>\n",
       "    </tr>\n",
       "    <tr>\n",
       "      <th>3</th>\n",
       "      <td>146.02</td>\n",
       "      <td>234.2000</td>\n",
       "      <td>234.1996</td>\n",
       "      <td>0.28</td>\n",
       "      <td>-3.3662</td>\n",
       "      <td>3.5294</td>\n",
       "      <td>9-F-15</td>\n",
       "    </tr>\n",
       "    <tr>\n",
       "      <th>4</th>\n",
       "      <td>136.21</td>\n",
       "      <td>274.6000</td>\n",
       "      <td>274.5978</td>\n",
       "      <td>0.78</td>\n",
       "      <td>-3.6465</td>\n",
       "      <td>3.7749</td>\n",
       "      <td>9-F-15</td>\n",
       "    </tr>\n",
       "    <tr>\n",
       "      <th>...</th>\n",
       "      <td>...</td>\n",
       "      <td>...</td>\n",
       "      <td>...</td>\n",
       "      <td>...</td>\n",
       "      <td>...</td>\n",
       "      <td>...</td>\n",
       "      <td>...</td>\n",
       "    </tr>\n",
       "    <tr>\n",
       "      <th>109</th>\n",
       "      <td>107.51</td>\n",
       "      <td>4524.2000</td>\n",
       "      <td>3185.9439</td>\n",
       "      <td>77.65</td>\n",
       "      <td>201.7164</td>\n",
       "      <td>1449.4273</td>\n",
       "      <td>9-F-15</td>\n",
       "    </tr>\n",
       "    <tr>\n",
       "      <th>110</th>\n",
       "      <td>107.84</td>\n",
       "      <td>4564.9000</td>\n",
       "      <td>3193.8139</td>\n",
       "      <td>80.05</td>\n",
       "      <td>189.5929</td>\n",
       "      <td>1487.4710</td>\n",
       "      <td>9-F-15</td>\n",
       "    </tr>\n",
       "    <tr>\n",
       "      <th>111</th>\n",
       "      <td>108.48</td>\n",
       "      <td>4605.4030</td>\n",
       "      <td>3200.1182</td>\n",
       "      <td>82.04</td>\n",
       "      <td>177.1232</td>\n",
       "      <td>1525.4852</td>\n",
       "      <td>9-F-15</td>\n",
       "    </tr>\n",
       "    <tr>\n",
       "      <th>112</th>\n",
       "      <td>108.37</td>\n",
       "      <td>4645.7049</td>\n",
       "      <td>3205.6993</td>\n",
       "      <td>82.04</td>\n",
       "      <td>164.5080</td>\n",
       "      <td>1563.3527</td>\n",
       "      <td>9-F-15</td>\n",
       "    </tr>\n",
       "    <tr>\n",
       "      <th>113</th>\n",
       "      <td>107.27</td>\n",
       "      <td>4671.0000</td>\n",
       "      <td>3209.7608</td>\n",
       "      <td>79.48</td>\n",
       "      <td>156.8674</td>\n",
       "      <td>1587.1191</td>\n",
       "      <td>9-F-15</td>\n",
       "    </tr>\n",
       "  </tbody>\n",
       "</table>\n",
       "<p>114 rows × 7 columns</p>\n",
       "</div>"
      ],
      "text/plain": [
       "        azi         md        tvd   incl    dispNs     dispEw    well\n",
       "0      0.00     0.0000     0.0000   0.00   -3.1700     3.5300  9-F-15\n",
       "1      0.00   145.9000   145.9000   0.00   -3.1700     3.5300  9-F-15\n",
       "2    253.69   153.4000   153.4000   0.15   -3.1728     3.5206  9-F-15\n",
       "3    146.02   234.2000   234.1996   0.28   -3.3662     3.5294  9-F-15\n",
       "4    136.21   274.6000   274.5978   0.78   -3.6465     3.7749  9-F-15\n",
       "..      ...        ...        ...    ...       ...        ...     ...\n",
       "109  107.51  4524.2000  3185.9439  77.65  201.7164  1449.4273  9-F-15\n",
       "110  107.84  4564.9000  3193.8139  80.05  189.5929  1487.4710  9-F-15\n",
       "111  108.48  4605.4030  3200.1182  82.04  177.1232  1525.4852  9-F-15\n",
       "112  108.37  4645.7049  3205.6993  82.04  164.5080  1563.3527  9-F-15\n",
       "113  107.27  4671.0000  3209.7608  79.48  156.8674  1587.1191  9-F-15\n",
       "\n",
       "[114 rows x 7 columns]"
      ]
     },
     "execution_count": 63,
     "metadata": {},
     "output_type": "execute_result"
    }
   ],
   "source": [
    "df"
   ]
  },
  {
   "cell_type": "code",
   "execution_count": 64,
   "metadata": {},
   "outputs": [],
   "source": [
    "## Initial well info\n",
    "gas_grav = 0.65\n",
    "oil_grav = 35\n",
    "wtr_grav = 1.07\n",
    "diameter=3.5\n",
    "tht=100.0\n",
    "twf=150.0\n",
    "depth =5000"
   ]
  },
  {
   "cell_type": "code",
   "execution_count": 65,
   "metadata": {},
   "outputs": [],
   "source": [
    "def temp_gradient(t0,t1, depth):\n",
    "    if depth==0:\n",
    "        return 0\n",
    "    else:\n",
    "        return abs(t0-t1)/depth    \n",
    "\n",
    "t_grad = temp_gradient(tht,twf, depth)"
   ]
  },
  {
   "cell_type": "code",
   "execution_count": 66,
   "metadata": {},
   "outputs": [
    {
     "data": {
      "text/plain": [
       "0.01"
      ]
     },
     "execution_count": 66,
     "metadata": {},
     "output_type": "execute_result"
    }
   ],
   "source": [
    "t_grad"
   ]
  },
  {
   "cell_type": "code",
   "execution_count": 67,
   "metadata": {},
   "outputs": [],
   "source": [
    "depths = df['tvd']*3.28084\n",
    "temps = tht + t_grad*depths\n",
    "inclination = [abs(90-x) for x in df['incl']]\n",
    "tvd_max = max(df['tvd'])"
   ]
  },
  {
   "cell_type": "code",
   "execution_count": 68,
   "metadata": {},
   "outputs": [
    {
     "data": {
      "text/plain": [
       "0      100.000000\n",
       "1      104.786746\n",
       "2      105.032809\n",
       "3      107.683714\n",
       "4      109.009114\n",
       "          ...    \n",
       "109    204.525722\n",
       "110    204.783924\n",
       "111    204.990758\n",
       "112    205.173865\n",
       "113    205.307116\n",
       "Name: tvd, Length: 114, dtype: float64"
      ]
     },
     "execution_count": 68,
     "metadata": {},
     "output_type": "execute_result"
    }
   ],
   "source": [
    "temps"
   ]
  },
  {
   "cell_type": "code",
   "execution_count": 69,
   "metadata": {},
   "outputs": [],
   "source": [
    "def pressure_traverse(oil_rate, thp, water_rate, gor, angle):\n",
    "    p=[]\n",
    "    dpdz=[]\n",
    "    for i in range(len(depths)):\n",
    "\n",
    "        if i==0:\n",
    "            p.append(thp)\n",
    "        else:\n",
    "            dz = (depths[i]-depths[i-1])\n",
    "            pressure = p[i-1]+dz*dpdz[i-1]\n",
    "            p.append(pressure)\n",
    "\n",
    "        dpdz_step = BB.Pgrad(p[i], temps[i], oil_rate, water_rate, gor, gas_grav, oil_grav, wtr_grav, diameter, angle[i]) \n",
    "        dpdz.append(dpdz_step)\n",
    "        \n",
    "    return p, dpdz\n",
    "\n",
    "p, dpdz = pressure_traverse(5000, 100, 500, 300, inclination)"
   ]
  },
  {
   "cell_type": "code",
   "execution_count": 82,
   "metadata": {},
   "outputs": [
    {
     "data": {
      "image/png": "[encoded data removed]",
      "text/plain": [
       "<Figure size 432x288 with 1 Axes>"
      ]
     },
     "metadata": {
      "needs_background": "light"
     },
     "output_type": "display_data"
    }
   ],
   "source": [
    "plt.plot(p, depths)\n",
    "plt.xlabel('Pressure - psia')\n",
    "plt.ylabel('TVD - ft')\n",
    "plt.gca().invert_xaxis()"
   ]
  },
  {
   "cell_type": "code",
   "execution_count": 71,
   "metadata": {},
   "outputs": [
    {
     "data": {
      "text/plain": [
       "193.4291240734265"
      ]
     },
     "execution_count": 71,
     "metadata": {},
     "output_type": "execute_result"
    }
   ],
   "source": [
    "p[-1]/14.5038"
   ]
  },
  {
   "cell_type": "markdown",
   "metadata": {},
   "source": [
    "### Bring the BHP from the database"
   ]
  },
  {
   "cell_type": "code",
   "execution_count": 72,
   "metadata": {},
   "outputs": [],
   "source": [
    "## Create the connection to my DB\n",
    "user = credentials.user\n",
    "password = credentials.password\n",
    "db_name = 'Volve_PEG'\n",
    "sql_flavour = 'postgresql+psycopg2://'\n",
    "engine_string = sql_flavour + user + \":\" + password + \"@localhost:5432/\" + db_name\n",
    "engine = db.create_engine(engine_string)\n",
    "connection = engine.connect()"
   ]
  },
  {
   "cell_type": "code",
   "execution_count": 73,
   "metadata": {},
   "outputs": [],
   "source": [
    "def CustomQuery(table, quantities, well):\n",
    "    query = \"SELECT dates, \" + quantities + \" FROM \" + table + \\\n",
    "    ' WHERE well like ' + \"'%%\" + well + \"%%'\"\n",
    "    df_temp = pd.read_sql(query, con=engine)\n",
    "    return df_temp"
   ]
  },
  {
   "cell_type": "code",
   "execution_count": 74,
   "metadata": {},
   "outputs": [
    {
     "data": {
      "text/html": [
       "<div>\n",
       "<style scoped>\n",
       "    .dataframe tbody tr th:only-of-type {\n",
       "        vertical-align: middle;\n",
       "    }\n",
       "\n",
       "    .dataframe tbody tr th {\n",
       "        vertical-align: top;\n",
       "    }\n",
       "\n",
       "    .dataframe thead th {\n",
       "        text-align: right;\n",
       "    }\n",
       "</style>\n",
       "<table border=\"1\" class=\"dataframe\">\n",
       "  <thead>\n",
       "    <tr style=\"text-align: right;\">\n",
       "      <th></th>\n",
       "      <th>dates</th>\n",
       "      <th>bhp</th>\n",
       "      <th>oilvol</th>\n",
       "      <th>watervol</th>\n",
       "      <th>gasvol</th>\n",
       "      <th>thp</th>\n",
       "    </tr>\n",
       "  </thead>\n",
       "  <tbody>\n",
       "    <tr>\n",
       "      <th>0</th>\n",
       "      <td>2014-01-12</td>\n",
       "      <td>303.747100</td>\n",
       "      <td>0.00</td>\n",
       "      <td>0.0</td>\n",
       "      <td>0.0</td>\n",
       "      <td>20.212240</td>\n",
       "    </tr>\n",
       "    <tr>\n",
       "      <th>1</th>\n",
       "      <td>2014-01-13</td>\n",
       "      <td>303.955410</td>\n",
       "      <td>0.00</td>\n",
       "      <td>0.0</td>\n",
       "      <td>0.0</td>\n",
       "      <td>23.260360</td>\n",
       "    </tr>\n",
       "    <tr>\n",
       "      <th>2</th>\n",
       "      <td>2014-01-14</td>\n",
       "      <td>303.377050</td>\n",
       "      <td>0.00</td>\n",
       "      <td>0.0</td>\n",
       "      <td>0.0</td>\n",
       "      <td>21.347140</td>\n",
       "    </tr>\n",
       "    <tr>\n",
       "      <th>3</th>\n",
       "      <td>2014-01-15</td>\n",
       "      <td>304.405040</td>\n",
       "      <td>0.00</td>\n",
       "      <td>0.0</td>\n",
       "      <td>0.0</td>\n",
       "      <td>31.875490</td>\n",
       "    </tr>\n",
       "    <tr>\n",
       "      <th>4</th>\n",
       "      <td>2014-01-16</td>\n",
       "      <td>241.770858</td>\n",
       "      <td>351.05</td>\n",
       "      <td>0.0</td>\n",
       "      <td>52394.9</td>\n",
       "      <td>55.870746</td>\n",
       "    </tr>\n",
       "    <tr>\n",
       "      <th>...</th>\n",
       "      <td>...</td>\n",
       "      <td>...</td>\n",
       "      <td>...</td>\n",
       "      <td>...</td>\n",
       "      <td>...</td>\n",
       "      <td>...</td>\n",
       "    </tr>\n",
       "    <tr>\n",
       "      <th>973</th>\n",
       "      <td>2016-09-13</td>\n",
       "      <td>345.906770</td>\n",
       "      <td>0.00</td>\n",
       "      <td>0.0</td>\n",
       "      <td>0.0</td>\n",
       "      <td>0.000000</td>\n",
       "    </tr>\n",
       "    <tr>\n",
       "      <th>974</th>\n",
       "      <td>2016-09-14</td>\n",
       "      <td>345.906770</td>\n",
       "      <td>0.00</td>\n",
       "      <td>0.0</td>\n",
       "      <td>0.0</td>\n",
       "      <td>0.000000</td>\n",
       "    </tr>\n",
       "    <tr>\n",
       "      <th>975</th>\n",
       "      <td>2016-09-15</td>\n",
       "      <td>345.906770</td>\n",
       "      <td>0.00</td>\n",
       "      <td>0.0</td>\n",
       "      <td>0.0</td>\n",
       "      <td>0.000000</td>\n",
       "    </tr>\n",
       "    <tr>\n",
       "      <th>976</th>\n",
       "      <td>2016-09-16</td>\n",
       "      <td>345.906770</td>\n",
       "      <td>0.00</td>\n",
       "      <td>0.0</td>\n",
       "      <td>0.0</td>\n",
       "      <td>0.000000</td>\n",
       "    </tr>\n",
       "    <tr>\n",
       "      <th>977</th>\n",
       "      <td>2016-09-17</td>\n",
       "      <td>345.906770</td>\n",
       "      <td>0.00</td>\n",
       "      <td>0.0</td>\n",
       "      <td>0.0</td>\n",
       "      <td>0.000000</td>\n",
       "    </tr>\n",
       "  </tbody>\n",
       "</table>\n",
       "<p>978 rows × 6 columns</p>\n",
       "</div>"
      ],
      "text/plain": [
       "         dates         bhp  oilvol  watervol   gasvol        thp\n",
       "0   2014-01-12  303.747100    0.00       0.0      0.0  20.212240\n",
       "1   2014-01-13  303.955410    0.00       0.0      0.0  23.260360\n",
       "2   2014-01-14  303.377050    0.00       0.0      0.0  21.347140\n",
       "3   2014-01-15  304.405040    0.00       0.0      0.0  31.875490\n",
       "4   2014-01-16  241.770858  351.05       0.0  52394.9  55.870746\n",
       "..         ...         ...     ...       ...      ...        ...\n",
       "973 2016-09-13  345.906770    0.00       0.0      0.0   0.000000\n",
       "974 2016-09-14  345.906770    0.00       0.0      0.0   0.000000\n",
       "975 2016-09-15  345.906770    0.00       0.0      0.0   0.000000\n",
       "976 2016-09-16  345.906770    0.00       0.0      0.0   0.000000\n",
       "977 2016-09-17  345.906770    0.00       0.0      0.0   0.000000\n",
       "\n",
       "[978 rows x 6 columns]"
      ]
     },
     "execution_count": 74,
     "metadata": {},
     "output_type": "execute_result"
    }
   ],
   "source": [
    "df_prod = CustomQuery('production', ' bhp, oilvol, watervol, gasvol, thp ', '15/9-F-15')\n",
    "df_prod"
   ]
  },
  {
   "cell_type": "code",
   "execution_count": 75,
   "metadata": {},
   "outputs": [
    {
     "data": {
      "text/plain": [
       "<matplotlib.collections.PathCollection at 0x1c6169307f0>"
      ]
     },
     "execution_count": 75,
     "metadata": {},
     "output_type": "execute_result"
    },
    {
     "data": {
      "image/png": "[encoded data removed]",
      "text/plain": [
       "<Figure size 432x288 with 1 Axes>"
      ]
     },
     "metadata": {
      "needs_background": "light"
     },
     "output_type": "display_data"
    }
   ],
   "source": [
    "plt.scatter(df_prod['dates'], df_prod['bhp'])"
   ]
  },
  {
   "cell_type": "code",
   "execution_count": 76,
   "metadata": {},
   "outputs": [
    {
     "name": "stderr",
     "output_type": "stream",
     "text": [
      "c:\\users\\prime\\appdata\\local\\programs\\python\\python37\\lib\\site-packages\\ipykernel_launcher.py:11: RuntimeWarning: invalid value encountered in double_scalars\n",
      "  # This is added back by InteractiveShellApp.init_path()\n"
     ]
    }
   ],
   "source": [
    "bhp_calculated =[]\n",
    "for i in range(len(df_prod['dates'])):\n",
    "    oil = df_prod.iloc[[i]]['oilvol']*6.28981\n",
    "    water = df_prod.iloc[[i]]['watervol']*6.28981\n",
    "    gas = df_prod.iloc[[i]]['gasvol']*35.315\n",
    "    thp = df_prod.iloc[[i]]['thp']*14.5038\n",
    "    oil = oil.values[0]\n",
    "    gas = gas.values[0]\n",
    "    water = water.values[0]\n",
    "    thp = thp.values[0]\n",
    "    gor = gas/oil\n",
    "    if oil == 0.0:     \n",
    "        bhp_calculated.append(0)\n",
    "    else:\n",
    "        p, dpdz = pressure_traverse(oil, thp, water, gor, inclination)\n",
    "        bhp_calculated.append(p[-1]/14.5)"
   ]
  },
  {
   "cell_type": "code",
   "execution_count": 78,
   "metadata": {},
   "outputs": [
    {
     "data": {
      "text/plain": [
       "[<matplotlib.lines.Line2D at 0x1c6169a8630>]"
      ]
     },
     "execution_count": 78,
     "metadata": {},
     "output_type": "execute_result"
    },
    {
     "data": {
      "image/png": "[encoded data removed]",
      "text/plain": [
       "<Figure size 432x288 with 1 Axes>"
      ]
     },
     "metadata": {
      "needs_background": "light"
     },
     "output_type": "display_data"
    }
   ],
   "source": [
    "#bhp_calculated_dummy = np.array(bhp_calculated) + 100\n",
    "plt.scatter(df_prod['dates'], df_prod['bhp'])\n",
    "plt.plot(df_prod['dates'], bhp_calculated, color='black')"
   ]
  },
  {
   "cell_type": "code",
   "execution_count": null,
   "metadata": {},
   "outputs": [],
   "source": []
  }
 ],
 "metadata": {
  "kernelspec": {
   "display_name": "Python 3",
   "language": "python",
   "name": "python3"
  },
  "language_info": {
   "codemirror_mode": {
    "name": "ipython",
    "version": 3
   },
   "file_extension": ".py",
   "mimetype": "text/x-python",
   "name": "python",
   "nbconvert_exporter": "python",
   "pygments_lexer": "ipython3",
   "version": "3.7.1"
  }
 },
 "nbformat": 4,
 "nbformat_minor": 4
}
