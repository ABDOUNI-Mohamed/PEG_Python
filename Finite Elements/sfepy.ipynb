{
 "cells": [
  {
   "cell_type": "markdown",
   "metadata": {},
   "source": [
    "# Using SFEPy to solve a linear elasticity problem\\"
   ]
  },
  {
   "cell_type": "markdown",
   "metadata": {},
   "source": [
    " # $-\\frac{\\partial\\sigma_{ij}}{\\partial x_j} + f_i = 0$   in   $\\Omega$,  $\\bf{u} = 0$ on $\\Gamma_1$, $u_1 = f(x)$ on $\\Gamma_2$"
   ]
  },
  {
   "cell_type": "markdown",
   "metadata": {},
   "source": [
    "## The stress is $\\sigma_{ij} = 2\\mu\\epsilon_{ij}+\\lambda\\epsilon_{kk}\\delta_{ij}$ where $\\lambda$ and $\\mu$ are the Lame constants"
   ]
  },
  {
   "cell_type": "markdown",
   "metadata": {},
   "source": [
    "### The strain is \n",
    "$\\epsilon_{ij}(\\bf{u}) = \\frac{1}{2}\\big(\\frac{\\partial u_i}{\\partial x_j} +\\frac{\\partial u_j}{\\partial x_i}  \\big)$ \n",
    "\n"
   ]
  },
  {
   "cell_type": "markdown",
   "metadata": {},
   "source": [
    "### while $\\bf{f}$ are volume forces. \n",
    "### With this the stress tensor components can be written in the following general form: "
   ]
  },
  {
   "cell_type": "markdown",
   "metadata": {},
   "source": [
    "### $\\sigma_{ij}(\\bf{u})=D_{ijkl}\\epsilon_{kl}(\\bf{u})$ where in this case $D_{ijkl}=\\mu(\\delta_{ik}\\delta_{jl}+\\delta_{il}\\delta_{jk}) +\\lambda\\delta_{ij}\\delta_{kl}$ ."
   ]
  },
  {
   "cell_type": "markdown",
   "metadata": {},
   "source": [
    "### The weak form ot the above equation can be written in the following form "
   ]
  },
  {
   "cell_type": "markdown",
   "metadata": {},
   "source": [
    "### $\\int_\\Omega D_{ijkl}\\epsilon_{kl}(\\bf{u})\\epsilon(\\bf{v}) +\\int_\\Omega f_i v_i = 0$"
   ]
  },
  {
   "cell_type": "code",
   "execution_count": 2,
   "metadata": {},
   "outputs": [],
   "source": [
    "import numpy as np\n",
    "from sfepy.discrete.fem import Mesh, FEDomain, Field"
   ]
  },
  {
   "cell_type": "markdown",
   "metadata": {},
   "source": [
    "### Read and define the mesh"
   ]
  },
  {
   "cell_type": "code",
   "execution_count": 3,
   "metadata": {},
   "outputs": [
    {
     "name": "stdout",
     "output_type": "stream",
     "text": [
      "sfepy: reading mesh (../sfepy/meshes/2d/rectangle_tri.mesh)...\n",
      "sfepy:   number of vertices: 258\n",
      "sfepy:   number of cells:\n",
      "sfepy:     2_3: 454\n",
      "sfepy: ...done in 0.01 s\n"
     ]
    }
   ],
   "source": [
    "mesh = Mesh.from_file('../sfepy/meshes/2d/rectangle_tri.mesh')"
   ]
  },
  {
   "cell_type": "markdown",
   "metadata": {},
   "source": [
    "### Create the domain and regions "
   ]
  },
  {
   "cell_type": "code",
   "execution_count": 4,
   "metadata": {},
   "outputs": [],
   "source": [
    "domain = FEDomain('domain', mesh)"
   ]
  },
  {
   "cell_type": "code",
   "execution_count": 5,
   "metadata": {},
   "outputs": [],
   "source": [
    "min_x, max_x = domain.get_mesh_bounding_box()[:, 0]"
   ]
  },
  {
   "cell_type": "code",
   "execution_count": 6,
   "metadata": {},
   "outputs": [],
   "source": [
    "eps = 1e-8 * (max_x - min_x)"
   ]
  },
  {
   "cell_type": "code",
   "execution_count": 7,
   "metadata": {},
   "outputs": [],
   "source": [
    "omega = domain.create_region('Omega', 'all')"
   ]
  },
  {
   "cell_type": "code",
   "execution_count": 8,
   "metadata": {},
   "outputs": [],
   "source": [
    "gamma1 = domain.create_region('Gamma1','vertices in x < %.10f' % (min_x + eps),'facet')"
   ]
  },
  {
   "cell_type": "code",
   "execution_count": 9,
   "metadata": {},
   "outputs": [],
   "source": [
    "gamma2 = domain.create_region('Gamma2','vertices in x > %.10f' % (max_x - eps),'facet')"
   ]
  },
  {
   "cell_type": "markdown",
   "metadata": {},
   "source": [
    "### Define the Finite element approximation"
   ]
  },
  {
   "cell_type": "code",
   "execution_count": 10,
   "metadata": {},
   "outputs": [],
   "source": [
    "field = Field.from_args('fu', np.float64, 'vector', omega,approx_order=2)"
   ]
  },
  {
   "cell_type": "code",
   "execution_count": 11,
   "metadata": {},
   "outputs": [],
   "source": [
    "from sfepy.discrete import (FieldVariable, Material, Integral, Function,Equation, Equations, Problem)"
   ]
  },
  {
   "cell_type": "markdown",
   "metadata": {},
   "source": [
    "### Define unknown and test variables"
   ]
  },
  {
   "cell_type": "code",
   "execution_count": 12,
   "metadata": {},
   "outputs": [],
   "source": [
    "u = FieldVariable('u', 'unknown', field)\n",
    "v = FieldVariable('v', 'test', field, primary_var_name='u')"
   ]
  },
  {
   "cell_type": "markdown",
   "metadata": {},
   "source": [
    "### Define material properties and"
   ]
  },
  {
   "cell_type": "code",
   "execution_count": 50,
   "metadata": {},
   "outputs": [],
   "source": [
    "from sfepy.mechanics.matcoefs import stiffness_from_lame\n",
    "m = Material('m', D=stiffness_from_lame(dim=2, lam=1.0, mu=1.0))\n",
    "f = Material('f', val=[[0.0], [0.0]])"
   ]
  },
  {
   "cell_type": "markdown",
   "metadata": {},
   "source": [
    "### Define quadrature order"
   ]
  },
  {
   "cell_type": "code",
   "execution_count": 14,
   "metadata": {},
   "outputs": [],
   "source": [
    "integral = Integral('i', order=3)"
   ]
  },
  {
   "cell_type": "markdown",
   "metadata": {},
   "source": [
    "### Define terms and build equations"
   ]
  },
  {
   "cell_type": "code",
   "execution_count": 51,
   "metadata": {},
   "outputs": [],
   "source": [
    "from sfepy.terms import Term\n",
    "t1 = Term.new('dw_lin_elastic(m.D, v, u)',integral, omega, m=m, v=v, u=u)\n",
    "t2 = Term.new('dw_volume_lvf(f.val, v)',integral, omega, f=f, v=v)\n",
    "eq = Equation('balance', t1 + t2)\n",
    "eqs = Equations([eq])"
   ]
  },
  {
   "cell_type": "markdown",
   "metadata": {},
   "source": [
    "### Set boundary conditions"
   ]
  },
  {
   "cell_type": "code",
   "execution_count": 52,
   "metadata": {},
   "outputs": [],
   "source": [
    "from sfepy.discrete.conditions import Conditions, EssentialBC\n",
    "fix_u = EssentialBC('fix_u', gamma1, {'u.all' : 0.0})\n"
   ]
  },
  {
   "cell_type": "code",
   "execution_count": 53,
   "metadata": {},
   "outputs": [],
   "source": [
    "omega = domain.create_region('Omega', 'all')"
   ]
  },
  {
   "cell_type": "code",
   "execution_count": 91,
   "metadata": {},
   "outputs": [],
   "source": [
    "def shift_u_fun(ts, coors, bc=None, problem=None, shift=0.0):\n",
    "    val = shift * coors[:,1]**3\n",
    "    return val"
   ]
  },
  {
   "cell_type": "code",
   "execution_count": 92,
   "metadata": {},
   "outputs": [],
   "source": [
    "bc_fun = Function('shift_u_fun', shift_u_fun,\n",
    "                  extra_args={'shift' : 0.01})"
   ]
  },
  {
   "cell_type": "code",
   "execution_count": 93,
   "metadata": {},
   "outputs": [],
   "source": [
    "shift_u = EssentialBC('shift_u', gamma2, {'u.0' : bc_fun})"
   ]
  },
  {
   "cell_type": "markdown",
   "metadata": {},
   "source": [
    "### Define linear and non-linear solvers"
   ]
  },
  {
   "cell_type": "code",
   "execution_count": 94,
   "metadata": {},
   "outputs": [],
   "source": [
    "from sfepy.base.base import IndexedStruct\n",
    "from sfepy.solvers.ls import ScipyDirect\n",
    "from sfepy.solvers.nls import Newton\n"
   ]
  },
  {
   "cell_type": "code",
   "execution_count": 95,
   "metadata": {},
   "outputs": [],
   "source": [
    "ls = ScipyDirect({})\n",
    "nls_status = IndexedStruct()\n",
    "nls = Newton({}, lin_solver=ls, status=nls_status)"
   ]
  },
  {
   "cell_type": "markdown",
   "metadata": {},
   "source": [
    "### Create a Problem instance and solve it "
   ]
  },
  {
   "cell_type": "code",
   "execution_count": 96,
   "metadata": {},
   "outputs": [],
   "source": [
    "pb = Problem('elasticity', equations=eqs)"
   ]
  },
  {
   "cell_type": "code",
   "execution_count": 97,
   "metadata": {},
   "outputs": [
    {
     "name": "stdout",
     "output_type": "stream",
     "text": [
      "sfepy: saving regions as groups...\n",
      "sfepy:   Omega\n",
      "sfepy:   Gamma1\n",
      "sfepy:   Gamma2\n",
      "sfepy:   Omega\n",
      "sfepy:   Omega\n",
      "sfepy: ...done\n"
     ]
    }
   ],
   "source": [
    "pb.save_regions_as_groups('regions')"
   ]
  },
  {
   "cell_type": "code",
   "execution_count": 98,
   "metadata": {},
   "outputs": [],
   "source": [
    "pb.set_bcs(ebcs=Conditions([fix_u, shift_u]))"
   ]
  },
  {
   "cell_type": "code",
   "execution_count": 99,
   "metadata": {},
   "outputs": [],
   "source": [
    "pb.set_solver(nls)"
   ]
  },
  {
   "cell_type": "code",
   "execution_count": 100,
   "metadata": {},
   "outputs": [],
   "source": [
    "status = IndexedStruct()"
   ]
  },
  {
   "cell_type": "code",
   "execution_count": 101,
   "metadata": {},
   "outputs": [
    {
     "name": "stdout",
     "output_type": "stream",
     "text": [
      "sfepy: updating variables...\n",
      "sfepy: ...done\n",
      "sfepy: matrix shape: (1815, 1815)\n",
      "sfepy: assembling matrix graph...\n",
      "sfepy: ...done in 0.00 s\n",
      "sfepy: matrix structural nonzeros: 39145 (1.19e-02% fill)\n",
      "sfepy: updating variables...\n",
      "sfepy: ...done\n",
      "sfepy: updating materials...\n",
      "sfepy:     m\n",
      "sfepy:     f\n",
      "sfepy: ...done in 0.00 s\n",
      "sfepy: nls: iter: 0, residual: 1.147589e+02 (rel: 1.000000e+00)\n",
      "sfepy:   residual:    0.00 [s]\n",
      "sfepy:     matrix:    0.00 [s]\n",
      "sfepy:      solve:    0.01 [s]\n",
      "sfepy: nls: iter: 1, residual: 1.649892e-13 (rel: 1.437703e-15)\n",
      "sfepy: solved in 1 steps in 0.02 seconds\n"
     ]
    }
   ],
   "source": [
    "vec = pb.solve(status=status)"
   ]
  },
  {
   "cell_type": "code",
   "execution_count": 102,
   "metadata": {},
   "outputs": [
    {
     "name": "stdout",
     "output_type": "stream",
     "text": [
      "Nonlinear solver status:\n",
      " IndexedStruct\n",
      "  condition:\n",
      "    0\n",
      "  err:\n",
      "    1.649891865843052e-13\n",
      "  err0:\n",
      "    114.75885522852423\n",
      "  ls_n_iter:\n",
      "    -1\n",
      "  n_iter:\n",
      "    1\n",
      "  time_stats:\n",
      "    dict with keys: ['residual', 'matrix', 'solve']\n"
     ]
    }
   ],
   "source": [
    "print('Nonlinear solver status:\\n', nls_status)"
   ]
  },
  {
   "cell_type": "code",
   "execution_count": 103,
   "metadata": {},
   "outputs": [
    {
     "name": "stdout",
     "output_type": "stream",
     "text": [
      "Stationary solver status:\n",
      " IndexedStruct\n",
      "  n_step:\n",
      "    1\n",
      "  time:\n",
      "    0.020894200000043384\n"
     ]
    }
   ],
   "source": [
    "print('Stationary solver status:\\n', status)"
   ]
  },
  {
   "cell_type": "code",
   "execution_count": 104,
   "metadata": {},
   "outputs": [],
   "source": [
    "pb.save_state('linear_elasticity.vtk', vec)"
   ]
  },
  {
   "cell_type": "code",
   "execution_count": 105,
   "metadata": {},
   "outputs": [],
   "source": [
    "from sfepy.postprocess.viewer import Viewer"
   ]
  },
  {
   "cell_type": "code",
   "execution_count": 106,
   "metadata": {},
   "outputs": [],
   "source": [
    "view = Viewer('regions.vtk')"
   ]
  },
  {
   "cell_type": "code",
   "execution_count": 107,
   "metadata": {},
   "outputs": [
    {
     "name": "stdout",
     "output_type": "stream",
     "text": [
      "sfepy: reading mesh (regions.vtk)...\n",
      "sfepy:   number of vertices: 258\n",
      "sfepy:   number of cells:\n",
      "sfepy:     2_3: 454\n",
      "sfepy: ...done in 0.00 s\n",
      "sfepy: point scalars Gamma1 at [-16. -10.   0.]\n",
      "sfepy: range: 0.00e+00 1.00e+00 l2 norm range: 0.00e+00 1.00e+00\n",
      "sfepy: point scalars Gamma2 at [ -5. -10.   0.]\n",
      "sfepy: range: 0.00e+00 1.00e+00 l2 norm range: 0.00e+00 1.00e+00\n",
      "sfepy: point scalars Omega at [  6. -10.   0.]\n",
      "sfepy: range: 1.00e+00 1.00e+00 l2 norm range: 1.00e+00 1.00e+00\n"
     ]
    },
    {
     "data": {
      "text/plain": [
       "<sfepy.postprocess.viewer.ViewerGUI at 0x1a0b8a047c8>"
      ]
     },
     "execution_count": 107,
     "metadata": {},
     "output_type": "execute_result"
    }
   ],
   "source": [
    "view()"
   ]
  },
  {
   "cell_type": "code",
   "execution_count": 108,
   "metadata": {},
   "outputs": [],
   "source": [
    "view = Viewer('linear_elasticity.vtk')"
   ]
  },
  {
   "cell_type": "code",
   "execution_count": 69,
   "metadata": {},
   "outputs": [
    {
     "name": "stdout",
     "output_type": "stream",
     "text": [
      "sfepy: reading mesh (linear_elasticity.vtk)...\n",
      "sfepy:   number of vertices: 258\n",
      "sfepy:   number of cells:\n",
      "sfepy:     2_3: 454\n",
      "sfepy: ...done in 0.00 s\n",
      "sfepy: point vectors u at [ -5. -10.   0.]\n",
      "sfepy: range: -4.75e-01 1.00e+00 l2 norm range: 0.00e+00 1.11e+00\n"
     ]
    },
    {
     "data": {
      "text/plain": [
       "<sfepy.postprocess.viewer.ViewerGUI at 0x1a0b24fea08>"
      ]
     },
     "execution_count": 69,
     "metadata": {},
     "output_type": "execute_result"
    }
   ],
   "source": [
    "view()"
   ]
  },
  {
   "cell_type": "code",
   "execution_count": 110,
   "metadata": {},
   "outputs": [
    {
     "name": "stdout",
     "output_type": "stream",
     "text": [
      "sfepy: reading mesh (linear_elasticity.vtk)...\n",
      "sfepy:   number of vertices: 258\n",
      "sfepy:   number of cells:\n",
      "sfepy:     2_3: 454\n",
      "sfepy: ...done in 0.00 s\n",
      "sfepy: point vectors u at [ -5. -10.   0.]\n",
      "sfepy: range: -1.00e+01 1.00e+01 l2 norm range: 0.00e+00 1.19e+01\n"
     ]
    },
    {
     "data": {
      "text/plain": [
       "<sfepy.postprocess.viewer.ViewerGUI at 0x1a0b287f288>"
      ]
     },
     "execution_count": 110,
     "metadata": {},
     "output_type": "execute_result"
    }
   ],
   "source": [
    "view(vector_mode='warp_norm', rel_scaling=1,is_scalar_bar=True, is_wireframe=True)"
   ]
  },
  {
   "cell_type": "code",
   "execution_count": null,
   "metadata": {},
   "outputs": [],
   "source": []
  },
  {
   "cell_type": "code",
   "execution_count": 70,
   "metadata": {},
   "outputs": [],
   "source": [
    "import numpy as nm\n",
    "from sfepy.discrete.fem import Mesh, FEDomain, Field"
   ]
  }
 ],
 "metadata": {
  "kernelspec": {
   "display_name": "Python 3",
   "language": "python",
   "name": "python3"
  },
  "language_info": {
   "codemirror_mode": {
    "name": "ipython",
    "version": 3
   },
   "file_extension": ".py",
   "mimetype": "text/x-python",
   "name": "python",
   "nbconvert_exporter": "python",
   "pygments_lexer": "ipython3",
   "version": "3.7.6"
  }
 },
 "nbformat": 4,
 "nbformat_minor": 4
}
